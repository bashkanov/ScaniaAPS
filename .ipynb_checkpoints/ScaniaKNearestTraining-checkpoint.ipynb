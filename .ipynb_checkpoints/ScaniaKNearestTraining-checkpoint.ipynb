{
 "cells": [
  {
   "cell_type": "code",
   "execution_count": 1,
   "metadata": {},
   "outputs": [],
   "source": [
    "from time import time\n",
    "import pandas as pd\n",
    "import numpy as np\n",
    "import matplotlib.pyplot as plt\n",
    "from collections import Counter\n",
    "import itertools\n",
    "\n",
    "from sklearn.preprocessing import Imputer\n",
    "from sklearn.model_selection import train_test_split\n",
    "from sklearn.model_selection import KFold\n",
    "from sklearn import metrics\n",
    "from sklearn.neighbors import KNeighborsClassifier\n",
    "from sklearn.model_selection import cross_val_score\n",
    "\n",
    "from sklearn.feature_selection import SelectKBest\n",
    "from sklearn.feature_selection import chi2\n",
    "\n",
    "# If we want to consider inf and -inf to be “NA” in computations, we can set \n",
    "pd.options.mode.use_inf_as_na = True"
   ]
  },
  {
   "cell_type": "code",
   "execution_count": 2,
   "metadata": {},
   "outputs": [],
   "source": [
    "train_df = pd.read_csv('data/aps_failure_training_set.csv', skiprows=range(0, 20))\n",
    "test_df = pd.read_csv('data/aps_failure_test_set.csv', skiprows=range(0, 20))"
   ]
  },
  {
   "cell_type": "code",
   "execution_count": 3,
   "metadata": {},
   "outputs": [],
   "source": [
    "# replace classes neg to 0, pos to 1\n",
    "# alternative index accesing train_df.iloc[:,0]\n",
    "train_df['class'] = train_df['class'].str.replace('neg','0')\n",
    "train_df['class'] = train_df['class'].str.replace('pos','1')\n",
    "cols = train_df.columns\n",
    "train_df[cols] = train_df[cols].apply(pd.to_numeric, errors='coerce')\n",
    "\n",
    "test_df['class'] = test_df['class'].str.replace('neg','0')\n",
    "test_df['class'] = test_df['class'].str.replace('pos','1')\n",
    "cols = test_df.columns\n",
    "test_df[cols] = test_df[cols].apply(pd.to_numeric, errors='coerce')"
   ]
  },
  {
   "cell_type": "code",
   "execution_count": 4,
   "metadata": {},
   "outputs": [],
   "source": [
    "# split dataframe into two arrays\n",
    "cols = train_df.columns.drop('class')\n",
    "X_train = train_df[cols].values\n",
    "X_test = test_df[cols].values\n",
    "\n",
    "# labels\n",
    "y_train = train_df['class'].values\n",
    "y_test = test_df['class'].values"
   ]
  },
  {
   "cell_type": "code",
   "execution_count": 5,
   "metadata": {},
   "outputs": [],
   "source": [
    "imp_train = Imputer(missing_values='NaN', strategy='median', axis=0)\n",
    "imp_train = imp_train.fit(X_train)\n",
    "imp_test = Imputer(missing_values='NaN', strategy='median', axis=0)\n",
    "imp_test = imp_test.fit(X_test)\n",
    "# Impute each train and test item, then predict\n",
    "X_train_imp = imp_train.transform(X_train)\n",
    "X_test_imp = imp_test.transform(X_test)"
   ]
  },
  {
   "cell_type": "code",
   "execution_count": 6,
   "metadata": {},
   "outputs": [],
   "source": [
    "# LocalOutlierFactor\n",
    "# http://scikit-learn.org/stable/modules/generated/sklearn.neighbors.LocalOutlierFactor.html#sklearn.neighbors.LocalOutlierFactor\n",
    "from sklearn.neighbors import LocalOutlierFactor\n",
    "clf = LocalOutlierFactor(n_neighbors=20)\n",
    "y_pred = clf.fit_predict(X_train_imp)\n",
    "X = X_train_imp[y_pred > 0]\n",
    "y = y_train[y_pred > 0]"
   ]
  },
  {
   "cell_type": "code",
   "execution_count": 7,
   "metadata": {},
   "outputs": [],
   "source": [
    "# number of features with min costs (see ScaniaKNearestDimentions)\n",
    "k = 96\n",
    "# select features\n",
    "X_kbest_train = SelectKBest(chi2, k=91).fit_transform(X, y)\n",
    "X_kbest_test = SelectKBest(chi2, k=91).fit_transform(X_test_imp, y_test)"
   ]
  },
  {
   "cell_type": "code",
   "execution_count": 8,
   "metadata": {},
   "outputs": [
    {
     "name": "stdout",
     "output_type": "stream",
     "text": [
      "Class distribution of the whole set: Counter({0: 53252, 1: 748})\n"
     ]
    }
   ],
   "source": [
    "print('Class distribution of the whole set: {}'.format(Counter(y)))"
   ]
  },
  {
   "cell_type": "markdown",
   "metadata": {},
   "source": [
    "### Combination of over- and under-sampling\n",
    "http://contrib.scikit-learn.org/imbalanced-learn/stable/combine.html#"
   ]
  },
  {
   "cell_type": "code",
   "execution_count": 9,
   "metadata": {},
   "outputs": [
    {
     "name": "stdout",
     "output_type": "stream",
     "text": [
      "[(0, 51776), (1, 53196)] resampling time: 107.344\n"
     ]
    }
   ],
   "source": [
    "from imblearn.combine import SMOTEENN\n",
    "smote_enn = SMOTEENN(random_state=0)\n",
    "t0 = time()\n",
    "X_resampled, y_resampled = smote_enn.fit_sample(X_kbest_train, y)\n",
    "print(sorted(Counter(y_resampled).items()), \"resampling time:\",  round(time()-t0, 3))"
   ]
  },
  {
   "cell_type": "markdown",
   "metadata": {},
   "source": [
    "### K-Neighbors Classifier with original data (applied only outlier deletion)\n",
    "http://scikit-learn.org/stable/modules/generated/sklearn.neighbors.KNeighborsClassifier.html"
   ]
  },
  {
   "cell_type": "code",
   "execution_count": 10,
   "metadata": {},
   "outputs": [
    {
     "name": "stdout",
     "output_type": "stream",
     "text": [
      "-- Number of neighbors for K-Neighbors Classifier: 3 --\n",
      "\tTrain time: 3.7\n",
      "\tPredict time: 26.343\n",
      "\tTotal cost: 6.159375\n",
      "-- Number of neighbors for K-Neighbors Classifier: 4 --\n",
      "\tTrain time: 3.585\n",
      "\tPredict time: 27.496\n",
      "\tTotal cost: 7.673125\n",
      "-- Number of neighbors for K-Neighbors Classifier: 5 --\n",
      "\tTrain time: 3.583\n",
      "\tPredict time: 28.061\n",
      "\tTotal cost: 6.804375\n",
      "-- Number of neighbors for K-Neighbors Classifier: 6 --\n",
      "\tTrain time: 3.605\n",
      "\tPredict time: 28.878\n",
      "\tTotal cost: 7.798125\n",
      "-- Number of neighbors for K-Neighbors Classifier: 7 --\n",
      "\tTrain time: 3.629\n",
      "\tPredict time: 29.237\n",
      "\tTotal cost: 6.961875\n",
      "-- Number of neighbors for K-Neighbors Classifier: 8 --\n",
      "\tTrain time: 3.576\n",
      "\tPredict time: 29.816\n",
      "\tTotal cost: 7.830625\n",
      "-- Number of neighbors for K-Neighbors Classifier: 9 --\n",
      "\tTrain time: 4.238\n",
      "\tPredict time: 30.167\n",
      "\tTotal cost: 7.0525\n",
      "-- Number of neighbors for K-Neighbors Classifier: 10 --\n",
      "\tTrain time: 3.652\n",
      "\tPredict time: 30.55\n",
      "\tTotal cost: 7.859375\n",
      "-- Number of neighbors for K-Neighbors Classifier: 11 --\n",
      "\tTrain time: 3.612\n",
      "\tPredict time: 31.092\n",
      "\tTotal cost: 7.2425\n",
      "-- Number of neighbors for K-Neighbors Classifier: 12 --\n",
      "\tTrain time: 3.597\n",
      "\tPredict time: 30.796\n",
      "\tTotal cost: 8.01875\n",
      "-- Number of neighbors for K-Neighbors Classifier: 13 --\n",
      "\tTrain time: 3.557\n",
      "\tPredict time: 31.163\n",
      "\tTotal cost: 7.24125\n",
      "-- Number of neighbors for K-Neighbors Classifier: 14 --\n",
      "\tTrain time: 3.575\n",
      "\tPredict time: 31.625\n",
      "\tTotal cost: 8.1125\n",
      "-- Number of neighbors for K-Neighbors Classifier: 15 --\n",
      "\tTrain time: 3.546\n",
      "\tPredict time: 31.892\n",
      "\tTotal cost: 7.584375\n",
      "-- Number of neighbors for K-Neighbors Classifier: 16 --\n",
      "\tTrain time: 3.566\n",
      "\tPredict time: 32.419\n",
      "\tTotal cost: 8.455625\n",
      "-- Number of neighbors for K-Neighbors Classifier: 17 --\n",
      "\tTrain time: 3.586\n",
      "\tPredict time: 32.894\n",
      "\tTotal cost: 7.99125\n",
      "-- Number of neighbors for K-Neighbors Classifier: 18 --\n",
      "\tTrain time: 3.71\n",
      "\tPredict time: 33.017\n",
      "\tTotal cost: 8.548125\n",
      "-- Number of neighbors for K-Neighbors Classifier: 19 --\n",
      "\tTrain time: 3.627\n",
      "\tPredict time: 33.322\n",
      "\tTotal cost: 8.051875\n",
      "-- Number of neighbors for K-Neighbors Classifier: 20 --\n",
      "\tTrain time: 3.598\n",
      "\tPredict time: 33.569\n",
      "\tTotal cost: 8.486875\n",
      "-- Number of neighbors for K-Neighbors Classifier: 21 --\n",
      "\tTrain time: 3.604\n",
      "\tPredict time: 33.852\n",
      "\tTotal cost: 8.020625\n",
      "-- Number of neighbors for K-Neighbors Classifier: 22 --\n",
      "\tTrain time: 3.6\n",
      "\tPredict time: 34.004\n",
      "\tTotal cost: 8.51875\n",
      "-- Number of neighbors for K-Neighbors Classifier: 23 --\n",
      "\tTrain time: 3.61\n",
      "\tPredict time: 34.227\n",
      "\tTotal cost: 8.3025\n",
      "-- Number of neighbors for K-Neighbors Classifier: 24 --\n",
      "\tTrain time: 3.624\n",
      "\tPredict time: 34.671\n",
      "\tTotal cost: 8.51625\n"
     ]
    }
   ],
   "source": [
    "times_train = []\n",
    "times_pred = []\n",
    "Cost_1 = 10 \n",
    "Cost_2 = 500\n",
    "costs = []\n",
    "\n",
    "neighbors_list = range(3, 25)\n",
    "\n",
    "for neighbors in neighbors_list:\n",
    "    neigh = KNeighborsClassifier(n_neighbors=neighbors)\n",
    "    print('-- Number of neighbors for K-Neighbors Classifier: {} --'.format(neighbors))\n",
    "    t0 = time()\n",
    "    n_clf = neigh.fit(X, y)\n",
    "    train_time = round(time()-t0, 3)\n",
    "    times_train.append(train_time)\n",
    "    print('\\tTrain time:', round(time()-t0, 3))\n",
    "\n",
    "    t1 = time()\n",
    "    y_pred = n_clf.predict(X_test_imp)\n",
    "    times_pred.append(round(time()-t0, 3))\n",
    "    predict_time = round(time()-t1, 3)\n",
    "    print('\\tPredict time:', predict_time)\n",
    "\n",
    "    cnf_matrix = metrics.confusion_matrix(y_test, y_pred)\n",
    "    FP = cnf_matrix[0, 1]\n",
    "    FN = cnf_matrix[1, 0]\n",
    "    Total_cost = (Cost_1*FP + Cost_2*FN)/len(y_pred)\n",
    "    print('\\tTotal cost:', Total_cost)\n",
    "    costs.append(Total_cost)"
   ]
  },
  {
   "cell_type": "code",
   "execution_count": 11,
   "metadata": {},
   "outputs": [
    {
     "data": {
      "image/png": "[encoded data removed]",
      "text/plain": [
       "<Figure size 432x288 with 1 Axes>"
      ]
     },
     "metadata": {},
     "output_type": "display_data"
    }
   ],
   "source": [
    "ax = plt.subplot(211)\n",
    "ax.plot(neighbors_list, costs)\n",
    "plt.ylabel('Total cost')\n",
    "plt.xlabel('Number of neighbors for K-Neighbors Classifier')\n",
    "plt.show()"
   ]
  },
  {
   "cell_type": "markdown",
   "metadata": {},
   "source": [
    "### K-Neighbors Classifier with original data with reduced number of dimentions"
   ]
  },
  {
   "cell_type": "code",
   "execution_count": 12,
   "metadata": {},
   "outputs": [],
   "source": [
    "# default parameters\n",
    "neigh = KNeighborsClassifier(n_neighbors=5)"
   ]
  },
  {
   "cell_type": "code",
   "execution_count": 13,
   "metadata": {},
   "outputs": [
    {
     "name": "stdout",
     "output_type": "stream",
     "text": [
      "Train time 3.745\n",
      "Predict time 29.937\n"
     ]
    }
   ],
   "source": [
    "t0 = time()\n",
    "n_clf_unbal = neigh.fit(X_kbest_train, y) \n",
    "print('Train time', round(time()-t0, 3))\n",
    "t1 = time()\n",
    "y_pred_unbal = n_clf_unbal.predict(X_kbest_test)\n",
    "print('Predict time', round(time()-t1, 3))"
   ]
  },
  {
   "cell_type": "markdown",
   "metadata": {},
   "source": [
    "### K-Neighbors Classifier with resampled data and reduced number of dimentions"
   ]
  },
  {
   "cell_type": "code",
   "execution_count": 14,
   "metadata": {},
   "outputs": [
    {
     "name": "stdout",
     "output_type": "stream",
     "text": [
      "Train time 24.587\n",
      "Predict time 30.475\n"
     ]
    }
   ],
   "source": [
    "t0 = time()\n",
    "n_clf_bal = neigh.fit(X_resampled, y_resampled) \n",
    "print('Train time', round(time()-t0, 3))\n",
    "t1 = time()\n",
    "y_pred_bal = n_clf_bal.predict(X_kbest_test)\n",
    "print('Predict time', round(time()-t1, 3))"
   ]
  },
  {
   "cell_type": "markdown",
   "metadata": {},
   "source": [
    "### Evaluation"
   ]
  },
  {
   "cell_type": "code",
   "execution_count": 15,
   "metadata": {},
   "outputs": [
    {
     "name": "stdout",
     "output_type": "stream",
     "text": [
      "test labels: \n",
      " [(0, 15625), (1, 375)]\n",
      "predicted labels original dataset with not reduced dimentions: \n",
      " [(0, 15707), (1, 293)]\n",
      "predicted labels unbalanced dataset: \n",
      " [(0, 15707), (1, 293)]\n",
      "predicted labels alanced dataset: \n",
      " [(0, 15058), (1, 942)]\n"
     ]
    }
   ],
   "source": [
    "print('test labels: \\n', sorted(Counter(y_test).items()))\n",
    "print('predicted labels original dataset with not reduced dimentions: \\n', sorted(Counter(y_pred_unbal).items()))\n",
    "print('predicted labels unbalanced dataset: \\n', sorted(Counter(y_pred_unbal).items()))\n",
    "print('predicted labels alanced dataset: \\n', sorted(Counter(y_pred_bal).items()))"
   ]
  },
  {
   "cell_type": "code",
   "execution_count": 16,
   "metadata": {},
   "outputs": [
    {
     "name": "stdout",
     "output_type": "stream",
     "text": [
      "accuracy score of the  model trained on original dataset: 0.98125\n",
      "accuracy score of the  model trained on resampled dataset: 0.9564375\n"
     ]
    }
   ],
   "source": [
    "acc_unbal = metrics.accuracy_score(y_pred_unbal, y_test)\n",
    "print (\"accuracy score of the  model trained on original dataset:\", acc_unbal)\n",
    "acc_bal = metrics.accuracy_score(y_pred_bal, y_test)\n",
    "print (\"accuracy score of the  model trained on resampled dataset:\", acc_bal)"
   ]
  },
  {
   "cell_type": "code",
   "execution_count": 17,
   "metadata": {},
   "outputs": [
    {
     "data": {
      "text/plain": [
       "0.9765625"
      ]
     },
     "execution_count": 17,
     "metadata": {},
     "output_type": "execute_result"
    }
   ],
   "source": [
    "# calculate null accuracy (for binary classification problems coded as 0/1)# calcul \n",
    "max(y_test.mean(), 1 - y_test.mean())"
   ]
  },
  {
   "cell_type": "markdown",
   "metadata": {},
   "source": [
    "Classification accuracy is the easiest classification metric to understand<br>\n",
    "But, it does not tell you the underlying distribution of response values<br>\n",
    "And, it does not tell you what \"types\" of errors your classifier is making<br>"
   ]
  },
  {
   "cell_type": "code",
   "execution_count": 18,
   "metadata": {},
   "outputs": [
    {
     "name": "stdout",
     "output_type": "stream",
     "text": [
      "Original data, TP: 103, TN: 15599, FP: 26, FN: 272\n",
      "Unbalanced data, TP: 184, TN: 15516, FP: 109, FN: 191\n",
      "Balanced data, TP: 310, TN: 14993, FP: 632, FN: 65\n"
     ]
    }
   ],
   "source": [
    "# Compute confusion matrix original dataset\n",
    "cnf_matrix = metrics.confusion_matrix(y_test, y_pred)\n",
    "# Compute confusion matrix unbalanced dataset\n",
    "cnf_matrix_unbal = metrics.confusion_matrix(y_test, y_pred_unbal)\n",
    "# Compute confusion matrix balanced dataset\n",
    "cnf_matrix_bal = metrics.confusion_matrix(y_test, y_pred_bal)\n",
    "np.set_printoptions(precision=2)\n",
    "\n",
    "# save confusion matrix and slice into four pieces\n",
    "TP = cnf_matrix[1, 1]\n",
    "TN = cnf_matrix[0, 0]\n",
    "FP = cnf_matrix[0, 1]\n",
    "FN = cnf_matrix[1, 0]\n",
    "print(\"Original data, TP: {tp}, TN: {tn}, FP: {fp}, FN: {fn}\".format(tp = TP, tn = TN, fp = FP, fn = FN))\n",
    "\n",
    "# save confusion matrix and slice into four pieces\n",
    "TP_unbal = cnf_matrix_unbal[1, 1]\n",
    "TN_unbal = cnf_matrix_unbal[0, 0]\n",
    "FP_unbal = cnf_matrix_unbal[0, 1]\n",
    "FN_unbal = cnf_matrix_unbal[1, 0]\n",
    "print(\"Unbalanced data, TP: {tp}, TN: {tn}, FP: {fp}, FN: {fn}\".format(tp = TP_unbal, tn = TN_unbal, fp = FP_unbal, fn = FN_unbal))\n",
    "\n",
    "# save confusion matrix and slice into four pieces\n",
    "TP_bal = cnf_matrix_bal[1, 1]\n",
    "TN_bal = cnf_matrix_bal[0, 0]\n",
    "FP_bal = cnf_matrix_bal[0, 1]\n",
    "FN_bal = cnf_matrix_bal[1, 0]\n",
    "print(\"Balanced data, TP: {tp}, TN: {tn}, FP: {fp}, FN: {fn}\".format(tp = TP_bal, tn = TN_bal, fp = FP_bal, fn = FN_bal))"
   ]
  },
  {
   "cell_type": "code",
   "execution_count": 19,
   "metadata": {},
   "outputs": [
    {
     "name": "stdout",
     "output_type": "stream",
     "text": [
      "Total cost: 8.51625\n",
      "Total cost unbalanced: 6.036875\n",
      "Total cost balanced: 2.42625\n"
     ]
    }
   ],
   "source": [
    "Cost_1 = 10 \n",
    "Cost_2 = 500\n",
    "Total_cost = (Cost_1*FP + Cost_2*FN)/len(y_pred)\n",
    "Total_cost_unbalanced = (Cost_1*FP_unbal + Cost_2*FN_unbal)/len(y_pred)\n",
    "Total_cost_balanced = (Cost_1*FP_bal + Cost_2*FN_bal)/len(y_pred)\n",
    "\n",
    "print(\"Total cost:\", Total_cost)\n",
    "print(\"Total cost unbalanced:\", Total_cost_unbalanced)\n",
    "print(\"Total cost balanced:\", Total_cost_balanced)"
   ]
  },
  {
   "cell_type": "code",
   "execution_count": 20,
   "metadata": {},
   "outputs": [
    {
     "name": "stdout",
     "output_type": "stream",
     "text": [
      "Confusion matrix, without normalization\n",
      "[[15599    26]\n",
      " [  272   103]]\n",
      "Confusion matrix, without normalization\n",
      "[[15516   109]\n",
      " [  191   184]]\n",
      "Confusion matrix, without normalization\n",
      "[[14993   632]\n",
      " [   65   310]]\n"
     ]
    },
    {
     "data": {
      "image/png": "[encoded data removed]",
      "text/plain": [
       "<Figure size 432x288 with 2 Axes>"
      ]
     },
     "metadata": {},
     "output_type": "display_data"
    },
    {
     "data": {
      "image/png": "[encoded data removed]",
      "text/plain": [
       "<Figure size 432x288 with 2 Axes>"
      ]
     },
     "metadata": {},
     "output_type": "display_data"
    },
    {
     "data": {
      "image/png": "[encoded data removed]",
      "text/plain": [
       "<Figure size 432x288 with 2 Axes>"
      ]
     },
     "metadata": {},
     "output_type": "display_data"
    }
   ],
   "source": [
    "# Plot confusion matrix to evaluate the accuracy of a classification\n",
    "def plot_confusion_matrix(cm, classes,\n",
    "                          normalize=False,\n",
    "                          title='Confusion matrix',\n",
    "                          cmap=plt.cm.Blues):\n",
    "    \"\"\"\n",
    "    This function prints and plots the confusion matrix.\n",
    "    Normalization can be applied by setting `normalize=True`.\n",
    "    \"\"\"\n",
    "    if normalize:\n",
    "        cm = cm.astype('float') / cm.sum(axis=1)[:, np.newaxis]\n",
    "        print(\"Normalized confusion matrix\")\n",
    "    else:\n",
    "        print('Confusion matrix, without normalization')\n",
    "\n",
    "    print(cm)\n",
    "\n",
    "    plt.imshow(cm, interpolation='nearest', cmap=cmap)\n",
    "    plt.title(title)\n",
    "    plt.colorbar()\n",
    "    tick_marks = np.arange(len(classes))\n",
    "    plt.xticks(tick_marks, classes, rotation=45)\n",
    "    plt.yticks(tick_marks, classes)\n",
    "\n",
    "    fmt = '.2f' if normalize else 'd'\n",
    "    thresh = cm.max() / 2.\n",
    "    for i, j in itertools.product(range(cm.shape[0]), range(cm.shape[1])):\n",
    "        plt.text(j, i, format(cm[i, j], fmt),\n",
    "                 horizontalalignment=\"center\",\n",
    "                 color=\"white\" if cm[i, j] > thresh else \"black\")\n",
    "\n",
    "    plt.tight_layout()\n",
    "    plt.ylabel('True label')\n",
    "    plt.xlabel('Predicted label')\n",
    "\n",
    "class_names = (['Neg', 'Pos'])\n",
    "   \n",
    "\n",
    "plt.figure()\n",
    "plot_confusion_matrix(cnf_matrix, classes=class_names,\n",
    "                      title='Confusion matrix, classifier on original dataset')\n",
    "    \n",
    "plt.figure()\n",
    "plot_confusion_matrix(cnf_matrix_unbal, classes=class_names,\n",
    "                      title='Confusion matrix, with unbalanced classifier')\n",
    "\n",
    "plt.figure()\n",
    "plot_confusion_matrix(cnf_matrix_bal, classes=class_names,\n",
    "                      title='Confusion matrix, with balanced classifier')\n",
    "\n",
    "\n",
    "\n",
    "# plt.figure()\n",
    "# plot_confusion_matrix(cnf_matrix, classes=class_names, normalize=True,\n",
    "#                       title='Normalized confusion matrix')\n",
    "\n",
    "plt.show()"
   ]
  },
  {
   "cell_type": "markdown",
   "metadata": {},
   "source": [
    "+ Every observation in the testing set is represented in exactly one box\n",
    "+ It's a 2x2 matrix because there are 2 response classes\n",
    "+ The format shown here is not universal\n",
    "\n",
    "Basic terminology <br>\n",
    "\n",
    "+ True Positives (TP): we correctly predicted that there is some failure\n",
    "+ True Negatives (TN): we correctly predicted that there is no failure\n",
    "+ False Positives (FP): we incorrectly predicted that there is some failure (a \"Type I error\")\n",
    "+ False Negatives (FN): we incorrectly predicted that there is no failure (a \"Type II error\")"
   ]
  },
  {
   "cell_type": "markdown",
   "metadata": {},
   "source": [
    "#### Conclusion:\n",
    "\n",
    "+ Confusion matrix gives you a more complete picture of how your classifier is performing\n",
    "+ Also allows you to compute various classification metrics, and these metrics can guide your model selection"
   ]
  }
 ],
 "metadata": {
  "kernelspec": {
   "display_name": "Python 3",
   "language": "python",
   "name": "python3"
  },
  "language_info": {
   "codemirror_mode": {
    "name": "ipython",
    "version": 3
   },
   "file_extension": ".py",
   "mimetype": "text/x-python",
   "name": "python",
   "nbconvert_exporter": "python",
   "pygments_lexer": "ipython3",
   "version": "3.6.5"
  }
 },
 "nbformat": 4,
 "nbformat_minor": 2
}
