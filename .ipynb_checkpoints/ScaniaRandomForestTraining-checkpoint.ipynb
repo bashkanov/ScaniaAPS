{
 "cells": [
  {
   "cell_type": "code",
   "execution_count": 24,
   "metadata": {},
   "outputs": [],
   "source": [
    "from time import time\n",
    "import pandas as pd\n",
    "import numpy as np\n",
    "import matplotlib.pyplot as plt\n",
    "from collections import Counter\n",
    "\n",
    "from sklearn.preprocessing import Imputer\n",
    "from sklearn.model_selection import train_test_split\n",
    "from sklearn.model_selection import KFold\n",
    "from sklearn import metrics\n",
    "from sklearn.ensemble import RandomForestClassifier\n",
    "from sklearn.model_selection import cross_val_score\n",
    "\n",
    "from sklearn.feature_selection import SelectKBest\n",
    "from sklearn.feature_selection import chi2\n",
    "\n",
    "# If we want to consider inf and -inf to be “NA” in computations, we can set \n",
    "pd.options.mode.use_inf_as_na = True"
   ]
  },
  {
   "cell_type": "code",
   "execution_count": 2,
   "metadata": {},
   "outputs": [],
   "source": [
    "train_df = pd.read_csv('data/aps_failure_training_set.csv', skiprows=range(0, 20))\n",
    "test_df = pd.read_csv('data/aps_failure_test_set.csv', skiprows=range(0, 20))"
   ]
  },
  {
   "cell_type": "code",
   "execution_count": 3,
   "metadata": {},
   "outputs": [],
   "source": [
    "# replace classes neg to 0, pos to 1\n",
    "# alternative index accesing train_df.iloc[:,0]\n",
    "train_df['class'] = train_df['class'].str.replace('neg','0')\n",
    "train_df['class'] = train_df['class'].str.replace('pos','1')\n",
    "cols = train_df.columns\n",
    "train_df[cols] = train_df[cols].apply(pd.to_numeric, errors='coerce')\n",
    "\n",
    "test_df['class'] = test_df['class'].str.replace('neg','0')\n",
    "test_df['class'] = test_df['class'].str.replace('pos','1')\n",
    "cols = test_df.columns\n",
    "test_df[cols] = test_df[cols].apply(pd.to_numeric, errors='coerce')"
   ]
  },
  {
   "cell_type": "code",
   "execution_count": 4,
   "metadata": {},
   "outputs": [],
   "source": [
    "# split dataframe into two arrays\n",
    "cols = train_df.columns.drop('class')\n",
    "X_train = train_df[cols].values\n",
    "X_test = test_df[cols].values\n",
    "\n",
    "# labels\n",
    "y_train = train_df['class'].values\n",
    "y_test = test_df['class'].values"
   ]
  },
  {
   "cell_type": "code",
   "execution_count": 5,
   "metadata": {},
   "outputs": [],
   "source": [
    "# Create our imputer to replace missing values with the mean e.g.\n",
    "# http://scikit-learn.org/stable/modules/generated/sklearn.preprocessing.Imputer.html\n",
    "# strategy = {mean, median, most_frequent}\n",
    "\n",
    "imp_train = Imputer(missing_values='NaN', strategy='median', axis=0)\n",
    "imp_train = imp_train.fit(X_train)\n",
    "imp_test = Imputer(missing_values='NaN', strategy='median', axis=0)\n",
    "imp_test = imp_test.fit(X_test)\n",
    "# Impute each train and test item, then predict\n",
    "X_train_imp = imp_train.transform(X_train)\n",
    "X_test_imp = imp_test.transform(X_test)"
   ]
  },
  {
   "cell_type": "markdown",
   "metadata": {},
   "source": [
    "### Estimate optimal number of features"
   ]
  },
  {
   "cell_type": "code",
   "execution_count": 6,
   "metadata": {},
   "outputs": [
    {
     "name": "stdout",
     "output_type": "stream",
     "text": [
      "Total cost: 4.104375 Dimentions: 170 Iter time: 7.074 s\n",
      "Total cost: 4.013125 Dimentions: 169 Iter time: 7.642 s\n",
      "Total cost: 4.105 Dimentions: 168 Iter time: 6.511 s\n",
      "Total cost: 4.088125 Dimentions: 167 Iter time: 6.515 s\n",
      "Total cost: 6.041875 Dimentions: 166 Iter time: 6.478 s\n",
      "Total cost: 5.45875 Dimentions: 165 Iter time: 7.481 s\n",
      "Total cost: 6.545625 Dimentions: 164 Iter time: 7.19 s\n",
      "Total cost: 6.59875 Dimentions: 163 Iter time: 7.044 s\n",
      "Total cost: 4.76125 Dimentions: 162 Iter time: 7.696 s\n",
      "Total cost: 5.195625 Dimentions: 161 Iter time: 7.126 s\n",
      "Total cost: 4.935 Dimentions: 160 Iter time: 6.96 s\n",
      "Total cost: 4.848125 Dimentions: 159 Iter time: 6.768 s\n",
      "Total cost: 4.984375 Dimentions: 158 Iter time: 6.598 s\n",
      "Total cost: 8.504375 Dimentions: 157 Iter time: 6.048 s\n",
      "Total cost: 7.029375 Dimentions: 156 Iter time: 6.708 s\n",
      "Total cost: 7.62625 Dimentions: 155 Iter time: 6.803 s\n",
      "Total cost: 3.855625 Dimentions: 154 Iter time: 6.957 s\n",
      "Total cost: 7.296875 Dimentions: 153 Iter time: 6.794 s\n",
      "Total cost: 7.54 Dimentions: 152 Iter time: 6.59 s\n",
      "Total cost: 9.04 Dimentions: 151 Iter time: 6.319 s\n",
      "Total cost: 6.511875 Dimentions: 150 Iter time: 7.239 s\n",
      "Total cost: 3.87375 Dimentions: 149 Iter time: 6.68 s\n",
      "Total cost: 6.940625 Dimentions: 148 Iter time: 6.575 s\n",
      "Total cost: 6.330625 Dimentions: 147 Iter time: 6.791 s\n",
      "Total cost: 5.025625 Dimentions: 146 Iter time: 6.773 s\n",
      "Total cost: 6.461875 Dimentions: 145 Iter time: 7.233 s\n",
      "Total cost: 3.6325 Dimentions: 144 Iter time: 7.472 s\n",
      "Total cost: 6.34625 Dimentions: 143 Iter time: 6.425 s\n",
      "Total cost: 7.285 Dimentions: 142 Iter time: 6.345 s\n",
      "Total cost: 5.253125 Dimentions: 141 Iter time: 6.511 s\n",
      "Total cost: 9.056875 Dimentions: 140 Iter time: 6.609 s\n",
      "Total cost: 3.429375 Dimentions: 139 Iter time: 6.686 s\n",
      "Total cost: 9.176875 Dimentions: 138 Iter time: 6.123 s\n",
      "Total cost: 6.033125 Dimentions: 137 Iter time: 6.53 s\n",
      "Total cost: 7.736875 Dimentions: 136 Iter time: 6.957 s\n",
      "Total cost: 6.898125 Dimentions: 135 Iter time: 6.22 s\n",
      "Total cost: 6.324375 Dimentions: 134 Iter time: 6.972 s\n",
      "Total cost: 6.28125 Dimentions: 133 Iter time: 6.739 s\n",
      "Total cost: 7.50125 Dimentions: 132 Iter time: 6.532 s\n",
      "Total cost: 4.955625 Dimentions: 131 Iter time: 6.68 s\n",
      "Total cost: 3.36625 Dimentions: 130 Iter time: 6.86 s\n",
      "Total cost: 4.7825 Dimentions: 129 Iter time: 6.599 s\n",
      "Total cost: 5.84875 Dimentions: 128 Iter time: 6.74 s\n",
      "Total cost: 4.440625 Dimentions: 127 Iter time: 6.404 s\n",
      "Total cost: 3.921875 Dimentions: 126 Iter time: 6.491 s\n",
      "Total cost: 4.380625 Dimentions: 125 Iter time: 6.604 s\n",
      "Total cost: 5.278125 Dimentions: 124 Iter time: 6.879 s\n",
      "Total cost: 4.59625 Dimentions: 123 Iter time: 6.578 s\n",
      "Total cost: 4.57125 Dimentions: 122 Iter time: 6.692 s\n",
      "Total cost: 6.08 Dimentions: 121 Iter time: 7.148 s\n",
      "Total cost: 5.60125 Dimentions: 120 Iter time: 6.388 s\n",
      "Total cost: 7.09375 Dimentions: 119 Iter time: 6.148 s\n",
      "Total cost: 4.956875 Dimentions: 118 Iter time: 6.227 s\n",
      "Total cost: 5.871875 Dimentions: 117 Iter time: 6.335 s\n",
      "Total cost: 3.21375 Dimentions: 116 Iter time: 5.924 s\n",
      "Total cost: 4.218125 Dimentions: 115 Iter time: 6.231 s\n",
      "Total cost: 4.01375 Dimentions: 114 Iter time: 6.309 s\n",
      "Total cost: 3.454375 Dimentions: 113 Iter time: 6.655 s\n",
      "Total cost: 4.326875 Dimentions: 112 Iter time: 6.422 s\n",
      "Total cost: 5.48875 Dimentions: 111 Iter time: 6.746 s\n",
      "Total cost: 3.760625 Dimentions: 110 Iter time: 6.523 s\n",
      "Total cost: 3.758125 Dimentions: 109 Iter time: 6.306 s\n",
      "Total cost: 3.636875 Dimentions: 108 Iter time: 6.186 s\n",
      "Total cost: 4.0725 Dimentions: 107 Iter time: 6.182 s\n",
      "Total cost: 4.671875 Dimentions: 106 Iter time: 6.436 s\n",
      "Total cost: 3.9275 Dimentions: 105 Iter time: 6.808 s\n",
      "Total cost: 3.8875 Dimentions: 104 Iter time: 6.18 s\n",
      "Total cost: 3.7725 Dimentions: 103 Iter time: 6.36 s\n",
      "Total cost: 3.63875 Dimentions: 102 Iter time: 6.092 s\n",
      "Total cost: 4.526875 Dimentions: 101 Iter time: 6.706 s\n",
      "Total cost: 3.836875 Dimentions: 100 Iter time: 6.427 s\n",
      "Total cost: 2.83625 Dimentions: 99 Iter time: 5.985 s\n",
      "Total cost: 5.8325 Dimentions: 98 Iter time: 5.926 s\n",
      "Total cost: 7.904375 Dimentions: 97 Iter time: 5.766 s\n",
      "Total cost: 7.38875 Dimentions: 96 Iter time: 5.768 s\n",
      "Total cost: 5.15375 Dimentions: 95 Iter time: 5.964 s\n",
      "Total cost: 6.306875 Dimentions: 94 Iter time: 5.331 s\n",
      "Total cost: 5.478125 Dimentions: 93 Iter time: 5.747 s\n",
      "Total cost: 2.67125 Dimentions: 92 Iter time: 5.572 s\n",
      "Total cost: 2.2475 Dimentions: 91 Iter time: 5.883 s\n",
      "Total cost: 3.44625 Dimentions: 90 Iter time: 5.712 s\n",
      "Total cost: 4.279375 Dimentions: 89 Iter time: 5.827 s\n",
      "Total cost: 4.746875 Dimentions: 88 Iter time: 5.673 s\n",
      "Total cost: 4.061875 Dimentions: 87 Iter time: 5.615 s\n",
      "Total cost: 4.135 Dimentions: 86 Iter time: 5.884 s\n",
      "Total cost: 3.9775 Dimentions: 85 Iter time: 5.884 s\n",
      "Total cost: 4.0175 Dimentions: 84 Iter time: 5.958 s\n",
      "Total cost: 5.461875 Dimentions: 83 Iter time: 5.677 s\n",
      "Total cost: 4.32375 Dimentions: 82 Iter time: 6.038 s\n",
      "Total cost: 5.28625 Dimentions: 81 Iter time: 5.667 s\n",
      "Total cost: 3.796875 Dimentions: 80 Iter time: 5.454 s\n",
      "Total cost: 4.729375 Dimentions: 79 Iter time: 5.114 s\n",
      "Total cost: 8.81 Dimentions: 78 Iter time: 5.07 s\n",
      "Total cost: 3.31375 Dimentions: 77 Iter time: 5.046 s\n",
      "Total cost: 5.52125 Dimentions: 76 Iter time: 5.304 s\n",
      "Total cost: 5.63625 Dimentions: 75 Iter time: 5.833 s\n",
      "Total cost: 4.504375 Dimentions: 74 Iter time: 4.955 s\n",
      "Total cost: 4.45625 Dimentions: 73 Iter time: 5.607 s\n",
      "Total cost: 5.475 Dimentions: 72 Iter time: 5.43 s\n",
      "Total cost: 4.27125 Dimentions: 71 Iter time: 5.217 s\n",
      "Total cost: 6.89375 Dimentions: 70 Iter time: 5.106 s\n",
      "Total cost: 6.993125 Dimentions: 69 Iter time: 5.258 s\n",
      "Total cost: 6.07 Dimentions: 68 Iter time: 5.748 s\n",
      "Total cost: 7.39125 Dimentions: 67 Iter time: 5.092 s\n",
      "Total cost: 6.038125 Dimentions: 66 Iter time: 5.941 s\n",
      "Total cost: 2.94875 Dimentions: 65 Iter time: 5.057 s\n",
      "Total cost: 3.755625 Dimentions: 64 Iter time: 6.122 s\n",
      "Total cost: 7.145625 Dimentions: 63 Iter time: 4.871 s\n",
      "Total cost: 5.45625 Dimentions: 62 Iter time: 5.269 s\n",
      "Total cost: 6.3425 Dimentions: 61 Iter time: 5.271 s\n",
      "Total cost: 7.440625 Dimentions: 60 Iter time: 5.351 s\n",
      "Total cost: 8.5875 Dimentions: 59 Iter time: 4.973 s\n",
      "Total cost: 6.50125 Dimentions: 58 Iter time: 4.754 s\n",
      "Total cost: 5.825625 Dimentions: 57 Iter time: 5.168 s\n",
      "Total cost: 5.138125 Dimentions: 56 Iter time: 4.907 s\n",
      "Total cost: 4.1375 Dimentions: 55 Iter time: 4.872 s\n",
      "Total cost: 5.618125 Dimentions: 54 Iter time: 5.036 s\n",
      "Total cost: 5.83625 Dimentions: 53 Iter time: 5.267 s\n",
      "Total cost: 7.533125 Dimentions: 52 Iter time: 5.2 s\n",
      "Total cost: 5.890625 Dimentions: 51 Iter time: 5.047 s\n",
      "Total cost: 6.903125 Dimentions: 50 Iter time: 4.85 s\n",
      "Total cost: 7.481875 Dimentions: 49 Iter time: 4.859 s\n",
      "Total cost: 9.23625 Dimentions: 48 Iter time: 4.283 s\n",
      "Total cost: 7.330625 Dimentions: 47 Iter time: 5.001 s\n",
      "Total cost: 6.7525 Dimentions: 46 Iter time: 4.631 s\n",
      "Total cost: 8.68875 Dimentions: 45 Iter time: 4.408 s\n",
      "Total cost: 6.1825 Dimentions: 44 Iter time: 4.102 s\n",
      "Total cost: 5.966875 Dimentions: 43 Iter time: 4.105 s\n",
      "Total cost: 7.52375 Dimentions: 42 Iter time: 4.038 s\n",
      "Total cost: 8.1625 Dimentions: 41 Iter time: 4.297 s\n",
      "Total cost: 5.31 Dimentions: 40 Iter time: 4.385 s\n",
      "Total cost: 8.598125 Dimentions: 39 Iter time: 4.539 s\n",
      "Total cost: 6.556875 Dimentions: 38 Iter time: 4.407 s\n",
      "Total cost: 5.5075 Dimentions: 37 Iter time: 4.091 s\n",
      "Total cost: 4.458125 Dimentions: 36 Iter time: 4.372 s\n",
      "Total cost: 4.8025 Dimentions: 35 Iter time: 3.335 s\n",
      "Total cost: 4.833125 Dimentions: 34 Iter time: 3.416 s\n",
      "Total cost: 5.845625 Dimentions: 33 Iter time: 3.44 s\n",
      "Total cost: 3.955 Dimentions: 32 Iter time: 3.31 s\n",
      "Total cost: 4.606875 Dimentions: 31 Iter time: 3.517 s\n",
      "Total cost: 5.76875 Dimentions: 30 Iter time: 3.676 s\n",
      "Total cost: 5.926875 Dimentions: 29 Iter time: 3.512 s\n",
      "Total cost: 6.039375 Dimentions: 28 Iter time: 3.473 s\n",
      "Total cost: 5.7325 Dimentions: 27 Iter time: 3.538 s\n",
      "Total cost: 5.329375 Dimentions: 26 Iter time: 3.521 s\n",
      "Total cost: 6.805625 Dimentions: 25 Iter time: 3.839 s\n",
      "Total cost: 6.37 Dimentions: 24 Iter time: 3.513 s\n",
      "Total cost: 5.95375 Dimentions: 23 Iter time: 2.904 s\n",
      "Total cost: 6.455 Dimentions: 22 Iter time: 2.663 s\n",
      "Total cost: 6.675625 Dimentions: 21 Iter time: 2.89 s\n",
      "Total cost: 7.085 Dimentions: 20 Iter time: 2.504 s\n"
     ]
    },
    {
     "name": "stdout",
     "output_type": "stream",
     "text": [
      "Total cost: 6.273125 Dimentions: 19 Iter time: 2.393 s\n",
      "Total cost: 6.803125 Dimentions: 18 Iter time: 2.522 s\n",
      "Total cost: 6.550625 Dimentions: 17 Iter time: 2.287 s\n",
      "Total cost: 6.058125 Dimentions: 16 Iter time: 2.472 s\n",
      "Total cost: 6.960625 Dimentions: 15 Iter time: 2.016 s\n",
      "Total cost: 7.428125 Dimentions: 14 Iter time: 1.86 s\n",
      "Total cost: 6.714375 Dimentions: 13 Iter time: 1.914 s\n",
      "Total cost: 7.4075 Dimentions: 12 Iter time: 1.758 s\n",
      "Total cost: 6.8425 Dimentions: 11 Iter time: 2.0 s\n",
      "Total cost: 9.238125 Dimentions: 10 Iter time: 2.087 s\n",
      "Total cost: 6.72375 Dimentions: 9 Iter time: 1.756 s\n",
      "Total cost: 10.125 Dimentions: 8 Iter time: 1.407 s\n",
      "Total cost: 5.538125 Dimentions: 7 Iter time: 1.384 s\n",
      "Total cost: 11.4475 Dimentions: 6 Iter time: 1.424 s\n",
      "Total cost: 8.510625 Dimentions: 5 Iter time: 1.403 s\n",
      "Total cost: 4.72125 Dimentions: 4 Iter time: 1.329 s\n",
      "Total cost: 8.390625 Dimentions: 3 Iter time: 0.819 s\n",
      "Total cost: 9.83625 Dimentions: 2 Iter time: 0.746 s\n",
      "Total cost: 11.41875 Dimentions: 1 Iter time: 0.276 s\n"
     ]
    }
   ],
   "source": [
    "from time import time\n",
    "Cost_1 = 10 \n",
    "Cost_2 = 500\n",
    "columns = []\n",
    "costs = []\n",
    "times_reduce = []\n",
    "times_train = []\n",
    "times_pred = []\n",
    "_ , column = X_train.shape\n",
    "\n",
    "while column > 0:\n",
    "    #     dimention reduction \n",
    "    t0 = time()\n",
    "    X_train_new = SelectKBest(chi2, k=column).fit_transform(X_train_imp, y_train)\n",
    "    X_test_new = SelectKBest(chi2, k=column).fit_transform(X_test_imp, y_test)\n",
    "    times_reduce.append(round(time()-t0, 3))\n",
    "    \n",
    "    #     train model\n",
    "    t1 = time()\n",
    "    rfmodel = RandomForestClassifier(n_estimators=10)\n",
    "    r_clf = rfmodel.fit(X_train_new, y_train)\n",
    "    times_train.append(round(time()-t1, 3))\n",
    "\n",
    "    #     test model\n",
    "    t2 = time()\n",
    "    y_pred = r_clf.predict(X_test_new)\n",
    "    times_pred.append(round(time()-t2, 3))\n",
    "\n",
    "    #     model evaluation\n",
    "    cnf_matrix = metrics.confusion_matrix(y_test, y_pred)\n",
    "    FP = cnf_matrix[0, 1]\n",
    "    FN = cnf_matrix[1, 0]    \n",
    "    Total_cost = (Cost_1*FP + Cost_2*FN)/len(y_pred)\n",
    "    columns.append(column)\n",
    "    costs.append(Total_cost)\n",
    "    print(\"Total cost:\", Total_cost, \"Dimentions:\", column, \"Iter time:\", round(time()-t0, 3), \"s\")\n",
    "    column = column - 1"
   ]
  },
  {
   "cell_type": "code",
   "execution_count": 12,
   "metadata": {},
   "outputs": [
    {
     "name": "stdout",
     "output_type": "stream",
     "text": [
      "Populating the interactive namespace from numpy and matplotlib\n"
     ]
    },
    {
     "data": {
      "image/png": "[encoded data removed]",
      "text/plain": [
       "<Figure size 720x720 with 1 Axes>"
      ]
     },
     "metadata": {},
     "output_type": "display_data"
    }
   ],
   "source": [
    " %pylab inline\n",
    "pylab.rcParams['figure.figsize'] = (10, 10)\n",
    "ax = plt.subplot(211)\n",
    "ax.plot(columns, costs)\n",
    "plt.ylabel('Total cost')\n",
    "plt.xlabel('Number of dimentions')\n",
    "plt.show()"
   ]
  },
  {
   "cell_type": "code",
   "execution_count": 11,
   "metadata": {
    "scrolled": false
   },
   "outputs": [
    {
     "data": {
      "image/png": "[encoded data removed]",
      "text/plain": [
       "<Figure size 720x720 with 1 Axes>"
      ]
     },
     "metadata": {},
     "output_type": "display_data"
    }
   ],
   "source": [
    "pylab.rcParams['figure.figsize'] = (10, 10)\n",
    "ax = plt.subplot(211)\n",
    "ax.plot(columns, times_reduce,  label=\"Reduce time\")\n",
    "ax.plot(columns, times_train, label=\"Train time\")\n",
    "ax.plot(columns, times_pred, label=\"Predict time\")\n",
    "ax.set_yscale('log')\n",
    "leg = ax.legend(bbox_to_anchor=(0., 1.02, 1., .102), loc=3,\n",
    "           ncol=3, mode=\"expand\", borderaxespad=0.)\n",
    "leg.get_frame().set_alpha(0.5)\n",
    "plt.ylabel('Time')\n",
    "plt.xlabel('Number of dimentions')\n",
    "plt.show()"
   ]
  },
  {
   "cell_type": "code",
   "execution_count": 20,
   "metadata": {},
   "outputs": [
    {
     "data": {
      "text/plain": [
       "91"
      ]
     },
     "execution_count": 20,
     "metadata": {},
     "output_type": "execute_result"
    }
   ],
   "source": [
    "# number features with min cost\n",
    "k = columns[costs.index(min(costs))]\n",
    "k"
   ]
  },
  {
   "cell_type": "code",
   "execution_count": 44,
   "metadata": {},
   "outputs": [],
   "source": [
    "# select features\n",
    "X_train = SelectKBest(chi2, k=k).fit_transform(X_train_imp, y_train)\n",
    "X_test = SelectKBest(chi2, k=k).fit_transform(X_test_imp, y_test)"
   ]
  },
  {
   "cell_type": "code",
   "execution_count": 45,
   "metadata": {},
   "outputs": [
    {
     "name": "stdout",
     "output_type": "stream",
     "text": [
      "Class distribution of the training set: Counter({0: 59000, 1: 1000})\n"
     ]
    }
   ],
   "source": [
    "print('Class distribution of the training set: {}'.format(Counter(y_train)))"
   ]
  },
  {
   "cell_type": "markdown",
   "metadata": {},
   "source": [
    "### Random Forest Training\n",
    "http://scikit-learn.org/stable/modules/generated/sklearn.ensemble.RandomForestClassifier.html"
   ]
  },
  {
   "cell_type": "code",
   "execution_count": 69,
   "metadata": {},
   "outputs": [],
   "source": [
    "# train model\n",
    "rfmodel = RandomForestClassifier(n_estimators=10)\n",
    "r_clf = rfmodel.fit(X_train, y_train)\n",
    "y_pred = r_clf.predict(X_test)"
   ]
  },
  {
   "cell_type": "markdown",
   "metadata": {},
   "source": [
    "## Evaluation"
   ]
  },
  {
   "cell_type": "code",
   "execution_count": 70,
   "metadata": {},
   "outputs": [
    {
     "name": "stdout",
     "output_type": "stream",
     "text": [
      "accuracy_score: 0.9828125\n"
     ]
    }
   ],
   "source": [
    "acc = metrics.accuracy_score(y_pred, y_test)\n",
    "print (\"accuracy_score:\", acc)"
   ]
  },
  {
   "cell_type": "code",
   "execution_count": 71,
   "metadata": {},
   "outputs": [
    {
     "name": "stdout",
     "output_type": "stream",
     "text": [
      "test labels: \n",
      " 0    15625\n",
      "1      375\n",
      "dtype: int64\n",
      "predicted labels: \n",
      " 0    15664\n",
      "1      336\n",
      "dtype: int64\n"
     ]
    }
   ],
   "source": [
    "print('test labels: \\n', pd.Series(y_test).value_counts())\n",
    "print('predicted labels: \\n', pd.Series(y_pred).value_counts())"
   ]
  },
  {
   "cell_type": "code",
   "execution_count": 72,
   "metadata": {},
   "outputs": [
    {
     "data": {
      "text/plain": [
       "0.9765625"
      ]
     },
     "execution_count": 72,
     "metadata": {},
     "output_type": "execute_result"
    }
   ],
   "source": [
    "# calculate null accuracy (for binary classification problems coded as 0/1)# calcul \n",
    "max(y_test.mean(), 1 - y_test.mean())"
   ]
  },
  {
   "cell_type": "markdown",
   "metadata": {},
   "source": [
    "Classification accuracy is the easiest classification metric to understand<br>\n",
    "But, it does not tell you the underlying distribution of response values<br>\n",
    "And, it does not tell you what \"types\" of errors your classifier is making<br>"
   ]
  },
  {
   "cell_type": "code",
   "execution_count": 74,
   "metadata": {},
   "outputs": [
    {
     "name": "stdout",
     "output_type": "stream",
     "text": [
      "218 15507 118 157\n"
     ]
    }
   ],
   "source": [
    "# Compute confusion matrix\n",
    "cnf_matrix = metrics.confusion_matrix(y_test, y_pred)\n",
    "np.set_printoptions(precision=2)\n",
    "\n",
    "# save confusion matrix and slice into four pieces\n",
    "confusion = cnf_matrix\n",
    "TP = confusion[1, 1]\n",
    "TN = confusion[0, 0]\n",
    "FP = confusion[0, 1]\n",
    "FN = confusion[1, 0]\n",
    "print(TP, TN, FP, FN)"
   ]
  },
  {
   "cell_type": "code",
   "execution_count": 75,
   "metadata": {},
   "outputs": [
    {
     "name": "stdout",
     "output_type": "stream",
     "text": [
      "Total cost: 4.98\n"
     ]
    }
   ],
   "source": [
    "# Costs\n",
    "# To minimize costs\n",
    "Cost_1 = 10 \n",
    "Cost_2 = 500\n",
    "Total_cost = (Cost_1*FP + Cost_2*FN)/len(y_pred)\n",
    "\n",
    "print(\"Total cost:\", Total_cost)"
   ]
  },
  {
   "cell_type": "code",
   "execution_count": 76,
   "metadata": {},
   "outputs": [
    {
     "name": "stdout",
     "output_type": "stream",
     "text": [
      "Confusion matrix, without normalization\n",
      "[[15507   118]\n",
      " [  157   218]]\n",
      "Normalized confusion matrix\n",
      "[[0.99 0.01]\n",
      " [0.42 0.58]]\n"
     ]
    },
    {
     "data": {
      "image/png": "[encoded data removed]",
      "text/plain": [
       "<Figure size 720x720 with 2 Axes>"
      ]
     },
     "metadata": {},
     "output_type": "display_data"
    },
    {
     "data": {
      "image/png": "[encoded data removed]",
      "text/plain": [
       "<Figure size 720x720 with 2 Axes>"
      ]
     },
     "metadata": {},
     "output_type": "display_data"
    }
   ],
   "source": [
    "# Plot confusion matrix to evaluate the accuracy of a classification\n",
    "def plot_confusion_matrix(cm, classes,\n",
    "                          normalize=False,\n",
    "                          title='Confusion matrix',\n",
    "                          cmap=plt.cm.Blues):\n",
    "    \"\"\"\n",
    "    This function prints and plots the confusion matrix.\n",
    "    Normalization can be applied by setting `normalize=True`.\n",
    "    \"\"\"\n",
    "    if normalize:\n",
    "        cm = cm.astype('float') / cm.sum(axis=1)[:, np.newaxis]\n",
    "        print(\"Normalized confusion matrix\")\n",
    "    else:\n",
    "        print('Confusion matrix, without normalization')\n",
    "\n",
    "    print(cm)\n",
    "\n",
    "    plt.imshow(cm, interpolation='nearest', cmap=cmap)\n",
    "    plt.title(title)\n",
    "    plt.colorbar()\n",
    "    tick_marks = np.arange(len(classes))\n",
    "    plt.xticks(tick_marks, classes, rotation=45)\n",
    "    plt.yticks(tick_marks, classes)\n",
    "\n",
    "    fmt = '.2f' if normalize else 'd'\n",
    "    thresh = cm.max() / 2.\n",
    "    for i, j in itertools.product(range(cm.shape[0]), range(cm.shape[1])):\n",
    "        plt.text(j, i, format(cm[i, j], fmt),\n",
    "                 horizontalalignment=\"center\",\n",
    "                 color=\"white\" if cm[i, j] > thresh else \"black\")\n",
    "\n",
    "    plt.tight_layout()\n",
    "    plt.ylabel('True label')\n",
    "    plt.xlabel('Predicted label')\n",
    "\n",
    "class_names = (['Neg', 'Pos'])\n",
    "   \n",
    "plt.figure()\n",
    "plot_confusion_matrix(cnf_matrix, classes=class_names,\n",
    "                      title='Confusion matrix, without normalization')\n",
    "\n",
    "plt.figure()\n",
    "plot_confusion_matrix(cnf_matrix, classes=class_names, normalize=True,\n",
    "                      title='Normalized confusion matrix')\n",
    "\n",
    "plt.show()"
   ]
  },
  {
   "cell_type": "markdown",
   "metadata": {},
   "source": [
    "+ Every observation in the testing set is represented in exactly one box\n",
    "+ It's a 2x2 matrix because there are 2 response classes\n",
    "+ The format shown here is not universal\n",
    "\n",
    "Basic terminology <br>\n",
    "\n",
    "+ True Positives (TP): we correctly predicted that there is some failure\n",
    "+ True Negatives (TN): we correctly predicted that there is no failure\n",
    "+ False Positives (FP): we incorrectly predicted that there is some failure (a \"Type I error\")\n",
    "+ False Negatives (FN): we incorrectly predicted that there is no failure (a \"Type II error\")"
   ]
  },
  {
   "cell_type": "markdown",
   "metadata": {},
   "source": [
    "## Metrics computed from a confusion matrix¶\n",
    "#### Classification Accuracy: Overall, how often is the classifier correct?"
   ]
  },
  {
   "cell_type": "code",
   "execution_count": 77,
   "metadata": {},
   "outputs": [
    {
     "name": "stdout",
     "output_type": "stream",
     "text": [
      "0.9828125\n",
      "0.9828125\n"
     ]
    }
   ],
   "source": [
    "print((TP + TN) / float(TP + TN + FP + FN))\n",
    "print(metrics.accuracy_score(y_test, y_pred))"
   ]
  },
  {
   "cell_type": "markdown",
   "metadata": {},
   "source": [
    "#### Classification Error: Overall, how often is the classifier incorrect?\n",
    "\n",
    "Also known as \"Misclassification Rate\""
   ]
  },
  {
   "cell_type": "code",
   "execution_count": 78,
   "metadata": {},
   "outputs": [
    {
     "name": "stdout",
     "output_type": "stream",
     "text": [
      "0.0171875\n",
      "0.017187500000000022\n"
     ]
    }
   ],
   "source": [
    "print((FP + FN) / float(TP + TN + FP + FN))\n",
    "print(1 - metrics.accuracy_score(y_test, y_pred))"
   ]
  },
  {
   "cell_type": "markdown",
   "metadata": {},
   "source": [
    "#### Sensitivity: When the actual value is positive, how often is the prediction correct?\n",
    "\n",
    "How \"sensitive\" is the classifier to detecting positive instances?\n",
    "Also known as \"True Positive Rate\" or \"Recall\""
   ]
  },
  {
   "cell_type": "code",
   "execution_count": 79,
   "metadata": {},
   "outputs": [
    {
     "name": "stdout",
     "output_type": "stream",
     "text": [
      "0.5813333333333334\n",
      "0.5813333333333334\n"
     ]
    }
   ],
   "source": [
    "print(TP / float(TP + FN))\n",
    "print(metrics.recall_score(y_test, y_pred))"
   ]
  },
  {
   "cell_type": "markdown",
   "metadata": {},
   "source": [
    "#### Specificity: When the actual value is negative, how often is the prediction correct?\n",
    "\n",
    "+ How \"specific\" (or \"selective\") is the classifier in predicting positive instances?"
   ]
  },
  {
   "cell_type": "code",
   "execution_count": 80,
   "metadata": {},
   "outputs": [
    {
     "name": "stdout",
     "output_type": "stream",
     "text": [
      "0.992448\n"
     ]
    }
   ],
   "source": [
    "print(TN / float(TN + FP))"
   ]
  },
  {
   "cell_type": "markdown",
   "metadata": {},
   "source": [
    "#### False Positive Rate: When the actual value is negative, how often is the prediction incorrect?"
   ]
  },
  {
   "cell_type": "code",
   "execution_count": 81,
   "metadata": {},
   "outputs": [
    {
     "name": "stdout",
     "output_type": "stream",
     "text": [
      "0.007552\n"
     ]
    }
   ],
   "source": [
    "print(FP / float(TN + FP))"
   ]
  },
  {
   "cell_type": "markdown",
   "metadata": {},
   "source": [
    "#### Precision: When a positive value is predicted, how often is the prediction correct?\n",
    "\n",
    "+ How \"precise\" is the classifier when predicting positive instances?"
   ]
  },
  {
   "cell_type": "code",
   "execution_count": 82,
   "metadata": {},
   "outputs": [
    {
     "name": "stdout",
     "output_type": "stream",
     "text": [
      "0.6488095238095238\n",
      "0.6488095238095238\n"
     ]
    }
   ],
   "source": [
    "print(TP / float(TP + FP))\n",
    "print(metrics.precision_score(y_test, y_pred))"
   ]
  },
  {
   "cell_type": "markdown",
   "metadata": {},
   "source": [
    "#### Conclusion:\n",
    "\n",
    "+ Confusion matrix gives you a more complete picture of how your classifier is performing\n",
    "+ Also allows you to compute various classification metrics, and these metrics can guide your model selection\n",
    "\n",
    "#### Which metrics should you focus on?\n",
    "\n",
    "+ Choice of metric depends on your business objective\n",
    "+ Spam filter (positive class is \"spam\"): Optimize for precision or specificity because false negatives (spam goes to + the inbox) are more acceptable than false positives (non-spam is caught by the spam filter)\n",
    "+ Fraudulent transaction detector (positive class is \"fraud\"): Optimize for sensitivity because false positives (normal transactions that are flagged as possible fraud) are more acceptable than false negatives (fraudulent transactions that are not detected)"
   ]
  }
 ],
 "metadata": {
  "kernelspec": {
   "display_name": "Python 3",
   "language": "python",
   "name": "python3"
  },
  "language_info": {
   "codemirror_mode": {
    "name": "ipython",
    "version": 3
   },
   "file_extension": ".py",
   "mimetype": "text/x-python",
   "name": "python",
   "nbconvert_exporter": "python",
   "pygments_lexer": "ipython3",
   "version": "3.6.5"
  }
 },
 "nbformat": 4,
 "nbformat_minor": 2
}
