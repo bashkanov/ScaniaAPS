{
 "cells": [
  {
   "cell_type": "code",
   "execution_count": 1,
   "metadata": {},
   "outputs": [],
   "source": [
    "from time import time\n",
    "import pandas as pd\n",
    "import numpy as np\n",
    "from sklearn.ensemble import RandomForestClassifier\n",
    "from sklearn.preprocessing import Imputer\n",
    "from sklearn.model_selection import KFold\n",
    "from sklearn.model_selection import cross_val_score\n",
    "from sklearn.metrics import accuracy_score\n",
    "from sklearn.neighbors import KNeighborsClassifier\n",
    "\n",
    "# If we want to consider inf and -inf to be “NA” in computations, we can set \n",
    "pd.options.mode.use_inf_as_na = True"
   ]
  },
  {
   "cell_type": "code",
   "execution_count": 2,
   "metadata": {},
   "outputs": [],
   "source": [
    "train_df = pd.read_csv('data/aps_failure_training_set.csv')\n",
    "test_df = pd.read_csv('data/aps_failure_test_set.csv', skiprows=range(0, 20))"
   ]
  },
  {
   "cell_type": "code",
   "execution_count": 3,
   "metadata": {},
   "outputs": [],
   "source": [
    "# hints to have a quick look on the data\n",
    "\n",
    "# train_df.head()\n",
    "# train_df.dtypes\n",
    "# train_df.get_dtype_counts()\n",
    "# train_df.head()\n",
    "# train_df.describe()\n",
    "# train_df.columns"
   ]
  },
  {
   "cell_type": "code",
   "execution_count": 4,
   "metadata": {},
   "outputs": [
    {
     "data": {
      "text/html": [
       "<div>\n",
       "<style scoped>\n",
       "    .dataframe tbody tr th:only-of-type {\n",
       "        vertical-align: middle;\n",
       "    }\n",
       "\n",
       "    .dataframe tbody tr th {\n",
       "        vertical-align: top;\n",
       "    }\n",
       "\n",
       "    .dataframe thead th {\n",
       "        text-align: right;\n",
       "    }\n",
       "</style>\n",
       "<table border=\"1\" class=\"dataframe\">\n",
       "  <thead>\n",
       "    <tr style=\"text-align: right;\">\n",
       "      <th></th>\n",
       "      <th>class</th>\n",
       "      <th>aa_000</th>\n",
       "      <th>ab_000</th>\n",
       "      <th>ac_000</th>\n",
       "      <th>ad_000</th>\n",
       "      <th>ae_000</th>\n",
       "      <th>af_000</th>\n",
       "      <th>ag_000</th>\n",
       "      <th>ag_001</th>\n",
       "      <th>ag_002</th>\n",
       "      <th>...</th>\n",
       "      <th>ee_002</th>\n",
       "      <th>ee_003</th>\n",
       "      <th>ee_004</th>\n",
       "      <th>ee_005</th>\n",
       "      <th>ee_006</th>\n",
       "      <th>ee_007</th>\n",
       "      <th>ee_008</th>\n",
       "      <th>ee_009</th>\n",
       "      <th>ef_000</th>\n",
       "      <th>eg_000</th>\n",
       "    </tr>\n",
       "  </thead>\n",
       "  <tbody>\n",
       "    <tr>\n",
       "      <th>0</th>\n",
       "      <td>0</td>\n",
       "      <td>60</td>\n",
       "      <td>0.0</td>\n",
       "      <td>20.0</td>\n",
       "      <td>12.0</td>\n",
       "      <td>0.0</td>\n",
       "      <td>0.0</td>\n",
       "      <td>0.0</td>\n",
       "      <td>0.0</td>\n",
       "      <td>0.0</td>\n",
       "      <td>...</td>\n",
       "      <td>1098.0</td>\n",
       "      <td>138.0</td>\n",
       "      <td>412.0</td>\n",
       "      <td>654.0</td>\n",
       "      <td>78.0</td>\n",
       "      <td>88.0</td>\n",
       "      <td>0.0</td>\n",
       "      <td>0.0</td>\n",
       "      <td>0.0</td>\n",
       "      <td>0.0</td>\n",
       "    </tr>\n",
       "    <tr>\n",
       "      <th>1</th>\n",
       "      <td>0</td>\n",
       "      <td>82</td>\n",
       "      <td>0.0</td>\n",
       "      <td>68.0</td>\n",
       "      <td>40.0</td>\n",
       "      <td>0.0</td>\n",
       "      <td>0.0</td>\n",
       "      <td>0.0</td>\n",
       "      <td>0.0</td>\n",
       "      <td>0.0</td>\n",
       "      <td>...</td>\n",
       "      <td>1068.0</td>\n",
       "      <td>276.0</td>\n",
       "      <td>1620.0</td>\n",
       "      <td>116.0</td>\n",
       "      <td>86.0</td>\n",
       "      <td>462.0</td>\n",
       "      <td>0.0</td>\n",
       "      <td>0.0</td>\n",
       "      <td>0.0</td>\n",
       "      <td>0.0</td>\n",
       "    </tr>\n",
       "    <tr>\n",
       "      <th>2</th>\n",
       "      <td>0</td>\n",
       "      <td>66002</td>\n",
       "      <td>2.0</td>\n",
       "      <td>212.0</td>\n",
       "      <td>112.0</td>\n",
       "      <td>0.0</td>\n",
       "      <td>0.0</td>\n",
       "      <td>0.0</td>\n",
       "      <td>0.0</td>\n",
       "      <td>0.0</td>\n",
       "      <td>...</td>\n",
       "      <td>495076.0</td>\n",
       "      <td>380368.0</td>\n",
       "      <td>440134.0</td>\n",
       "      <td>269556.0</td>\n",
       "      <td>1315022.0</td>\n",
       "      <td>153680.0</td>\n",
       "      <td>516.0</td>\n",
       "      <td>0.0</td>\n",
       "      <td>0.0</td>\n",
       "      <td>0.0</td>\n",
       "    </tr>\n",
       "    <tr>\n",
       "      <th>3</th>\n",
       "      <td>0</td>\n",
       "      <td>59816</td>\n",
       "      <td>NaN</td>\n",
       "      <td>1010.0</td>\n",
       "      <td>936.0</td>\n",
       "      <td>0.0</td>\n",
       "      <td>0.0</td>\n",
       "      <td>0.0</td>\n",
       "      <td>0.0</td>\n",
       "      <td>0.0</td>\n",
       "      <td>...</td>\n",
       "      <td>540820.0</td>\n",
       "      <td>243270.0</td>\n",
       "      <td>483302.0</td>\n",
       "      <td>485332.0</td>\n",
       "      <td>431376.0</td>\n",
       "      <td>210074.0</td>\n",
       "      <td>281662.0</td>\n",
       "      <td>3232.0</td>\n",
       "      <td>0.0</td>\n",
       "      <td>0.0</td>\n",
       "    </tr>\n",
       "    <tr>\n",
       "      <th>4</th>\n",
       "      <td>0</td>\n",
       "      <td>1814</td>\n",
       "      <td>NaN</td>\n",
       "      <td>156.0</td>\n",
       "      <td>140.0</td>\n",
       "      <td>0.0</td>\n",
       "      <td>0.0</td>\n",
       "      <td>0.0</td>\n",
       "      <td>0.0</td>\n",
       "      <td>0.0</td>\n",
       "      <td>...</td>\n",
       "      <td>7646.0</td>\n",
       "      <td>4144.0</td>\n",
       "      <td>18466.0</td>\n",
       "      <td>49782.0</td>\n",
       "      <td>3176.0</td>\n",
       "      <td>482.0</td>\n",
       "      <td>76.0</td>\n",
       "      <td>0.0</td>\n",
       "      <td>0.0</td>\n",
       "      <td>0.0</td>\n",
       "    </tr>\n",
       "  </tbody>\n",
       "</table>\n",
       "<p>5 rows × 171 columns</p>\n",
       "</div>"
      ],
      "text/plain": [
       "   class  aa_000  ab_000  ac_000  ad_000  ae_000  af_000  ag_000  ag_001  \\\n",
       "0      0      60     0.0    20.0    12.0     0.0     0.0     0.0     0.0   \n",
       "1      0      82     0.0    68.0    40.0     0.0     0.0     0.0     0.0   \n",
       "2      0   66002     2.0   212.0   112.0     0.0     0.0     0.0     0.0   \n",
       "3      0   59816     NaN  1010.0   936.0     0.0     0.0     0.0     0.0   \n",
       "4      0    1814     NaN   156.0   140.0     0.0     0.0     0.0     0.0   \n",
       "\n",
       "   ag_002   ...      ee_002    ee_003    ee_004    ee_005     ee_006  \\\n",
       "0     0.0   ...      1098.0     138.0     412.0     654.0       78.0   \n",
       "1     0.0   ...      1068.0     276.0    1620.0     116.0       86.0   \n",
       "2     0.0   ...    495076.0  380368.0  440134.0  269556.0  1315022.0   \n",
       "3     0.0   ...    540820.0  243270.0  483302.0  485332.0   431376.0   \n",
       "4     0.0   ...      7646.0    4144.0   18466.0   49782.0     3176.0   \n",
       "\n",
       "     ee_007    ee_008  ee_009  ef_000  eg_000  \n",
       "0      88.0       0.0     0.0     0.0     0.0  \n",
       "1     462.0       0.0     0.0     0.0     0.0  \n",
       "2  153680.0     516.0     0.0     0.0     0.0  \n",
       "3  210074.0  281662.0  3232.0     0.0     0.0  \n",
       "4     482.0      76.0     0.0     0.0     0.0  \n",
       "\n",
       "[5 rows x 171 columns]"
      ]
     },
     "execution_count": 4,
     "metadata": {},
     "output_type": "execute_result"
    }
   ],
   "source": [
    "# replace classes neg to 0, pos to 1\n",
    "# alternative index accesing train_df.iloc[:,0]\n",
    "train_df['class'] = train_df['class'].str.replace('neg','0')\n",
    "train_df['class'] = train_df['class'].str.replace('pos','1')\n",
    "cols = train_df.columns\n",
    "train_df[cols] = train_df[cols].apply(pd.to_numeric, errors='coerce')\n",
    "\n",
    "test_df['class'] = test_df['class'].str.replace('neg','0')\n",
    "test_df['class'] = test_df['class'].str.replace('pos','1')\n",
    "cols = test_df.columns\n",
    "test_df[cols] = test_df[cols].apply(pd.to_numeric, errors='coerce')\n",
    "\n",
    "test_df.head()"
   ]
  },
  {
   "cell_type": "code",
   "execution_count": 5,
   "metadata": {
    "scrolled": true
   },
   "outputs": [
    {
     "name": "stdout",
     "output_type": "stream",
     "text": [
      "Train data frame contains 3314175 zeros\n",
      "Test data frame contains 879695 zeros\n"
     ]
    }
   ],
   "source": [
    "# how many zeros data contains each column\n",
    "print(\"Train data frame contains \" + str((train_df == 0).sum().sum()) + \" zeros\")\n",
    "print(\"Test data frame contains \" + str((test_df == 0).sum().sum()) + \" zeros\")"
   ]
  },
  {
   "cell_type": "code",
   "execution_count": 6,
   "metadata": {},
   "outputs": [
    {
     "name": "stdout",
     "output_type": "stream",
     "text": [
      "Train data frame contains 850015 NaNs\n",
      "Test data frame contains 228680 NaNs\n"
     ]
    }
   ],
   "source": [
    "# how many NaN data contains each column\n",
    "print(\"Train data frame contains \" + str(train_df.isnull().sum().sum()) + \" NaNs\")\n",
    "print(\"Test data frame contains \" + str(test_df.isnull().sum().sum()) + \" NaNs\")\n",
    "\n",
    "# returns \"mask\" dataframe  \n",
    "# train_df.isnull()"
   ]
  },
  {
   "cell_type": "markdown",
   "metadata": {},
   "source": [
    "Strategy: marking all zeroes as NaN"
   ]
  },
  {
   "cell_type": "code",
   "execution_count": 7,
   "metadata": {},
   "outputs": [],
   "source": [
    "# cols = train_df.columns.drop('class')\n",
    "# train_df[cols] = train_df[cols].replace(0, np.NaN)\n",
    "\n",
    "# cols = test_df.columns.drop('class')\n",
    "# test_df[cols] = test_df[cols].replace(0, np.NaN)"
   ]
  },
  {
   "cell_type": "code",
   "execution_count": 8,
   "metadata": {},
   "outputs": [],
   "source": [
    "cols = train_df.columns.drop('class')\n",
    "train_df[cols] = train_df[cols].replace(np.NaN, 0)\n",
    "\n",
    "cols = test_df.columns.drop('class')\n",
    "test_df[cols] = test_df[cols].replace(np.NaN, 0)"
   ]
  },
  {
   "cell_type": "code",
   "execution_count": 9,
   "metadata": {},
   "outputs": [
    {
     "name": "stdout",
     "output_type": "stream",
     "text": [
      "0\n"
     ]
    }
   ],
   "source": [
    "print(train_df.isnull().sum().sum())"
   ]
  },
  {
   "cell_type": "code",
   "execution_count": 10,
   "metadata": {},
   "outputs": [],
   "source": [
    "# split dataframe into two arrays\n",
    "cols = train_df.columns.drop('class')\n",
    "X_train = train_df[cols].values\n",
    "X_test = test_df[cols].values\n",
    "\n",
    "# labels\n",
    "y_train = train_df['class'].values\n",
    "y_test = test_df['class'].values"
   ]
  },
  {
   "cell_type": "code",
   "execution_count": 11,
   "metadata": {},
   "outputs": [],
   "source": [
    "# Create our imputer to replace missing values with the mean e.g.\n",
    "# http://scikit-learn.org/stable/modules/generated/sklearn.preprocessing.Imputer.html\n",
    "# strategy = {mean, median, most_frequent}\n",
    "\n",
    "imp = Imputer(missing_values='NaN', strategy='median', axis=0)\n",
    "imp = imp.fit(X_train)\n",
    "# Impute each train and test item, then predict\n",
    "X_train_imp = imp.transform(X_train)\n",
    "X_test_imp = imp.transform(X_test)"
   ]
  },
  {
   "cell_type": "code",
   "execution_count": 12,
   "metadata": {},
   "outputs": [],
   "source": [
    "# # Random Forest Training\n",
    "# # http://scikit-learn.org/stable/modules/generated/sklearn.ensemble.RandomForestClassifier.html\n",
    "# rfmodel = RandomForestClassifier(n_estimators=10)\n",
    "# t0 = time()\n",
    "# r_clf = rfmodel.fit(X_train_imp, y_train)\n",
    "# print \"training time:\", round(time()-t0, 3), \"s\"\n",
    "\n",
    "# # print(clf.feature_importances_)\n",
    "# t0 = time()\n",
    "# pred = r_clf.predict(X_test_imp)\n",
    "# print \"predict time:\", round(time()-t0, 3), \"s\"\n",
    "\n",
    "# acc = accuracy_score(pred, y_test)\n",
    "# print \"accuracy_score:\", acc\n",
    "\n",
    "# kfold = KFold(n_splits=3, random_state=7)\n",
    "# result = cross_val_score(rfmodel, X_train_imp, y_train, cv=kfold, scoring='accuracy')\n",
    "# print \"kfold mean:\", result.mean()"
   ]
  },
  {
   "cell_type": "code",
   "execution_count": 13,
   "metadata": {},
   "outputs": [
    {
     "name": "stdout",
     "output_type": "stream",
     "text": [
      "training time: 3.006 s\n",
      "predict time: 42.707 s\n",
      "accuracy_score: 0.9848125\n",
      "kfold mean: 0.9866999999999999\n"
     ]
    }
   ],
   "source": [
    "# KNeighborsClassifier\n",
    "# http://scikit-learn.org/stable/modules/generated/sklearn.neighbors.KNeighborsClassifier.html\n",
    "\n",
    "# Can't handle missing data by itself \n",
    "# ValueError: Input contains NaN, infinity or a value too large for dtype('float64').\n",
    "# Maybe we can try replace all NaNs by zeros and then train the model\n",
    "\n",
    "neigh = KNeighborsClassifier(n_neighbors=3)\n",
    "t0 = time()\n",
    "n_clf = neigh.fit(X_train, y_train) \n",
    "print \"training time:\", round(time()-t0, 3), \"s\"\n",
    "\n",
    "# print(clf.feature_importances_)\n",
    "t0 = time()\n",
    "pred = n_clf.predict(X_test)\n",
    "print \"predict time:\", round(time()-t0, 3), \"s\"\n",
    "\n",
    "acc = accuracy_score(pred, y_test)\n",
    "print \"accuracy_score:\", acc\n",
    "\n",
    "kfold = KFold(n_splits=3, random_state=7)\n",
    "result = cross_val_score(neigh, X_train_imp, y_train, cv=kfold, scoring='accuracy')\n",
    "print \"kfold mean:\", result.mean()\n",
    "\n",
    "\n"
   ]
  },
  {
   "cell_type": "code",
   "execution_count": null,
   "metadata": {},
   "outputs": [],
   "source": [
    "# https://stackoverflow.com/questions/35827863/remove-outliers-in-pandas-dataframe-using-percentiles/35828995\n",
    "# remove outliers using Percentiles\n",
    "\n",
    "https://pandas.pydata.org/pandas-docs/version/0.22.0/missing_data.html\n",
    "\n"
   ]
  }
 ],
 "metadata": {
  "kernelspec": {
   "display_name": "Python 2",
   "language": "python",
   "name": "python2"
  },
  "language_info": {
   "codemirror_mode": {
    "name": "ipython",
    "version": 2
   },
   "file_extension": ".py",
   "mimetype": "text/x-python",
   "name": "python",
   "nbconvert_exporter": "python",
   "pygments_lexer": "ipython2",
   "version": "2.7.15"
  }
 },
 "nbformat": 4,
 "nbformat_minor": 2
}
