{
 "cells": [
  {
   "cell_type": "code",
   "execution_count": 37,
   "metadata": {},
   "outputs": [],
   "source": [
    "from time import time\n",
    "import pandas as pd\n",
    "import numpy as np\n",
    "import matplotlib.pyplot as plt\n",
    "from collections import Counter\n",
    "\n",
    "from sklearn.preprocessing import Imputer\n",
    "from sklearn.model_selection import train_test_split\n",
    "from sklearn.model_selection import KFold\n",
    "from sklearn import metrics\n",
    "from sklearn.model_selection import cross_val_score\n",
    "from sklearn.neighbors import KNeighborsClassifier\n",
    "\n",
    "from sklearn.feature_selection import SelectKBest\n",
    "from sklearn.feature_selection import chi2\n",
    "\n",
    "# If we want to consider inf and -inf to be “NA” in computations, we can set \n",
    "pd.options.mode.use_inf_as_na = True"
   ]
  },
  {
   "cell_type": "code",
   "execution_count": 2,
   "metadata": {},
   "outputs": [],
   "source": [
    "train_df = pd.read_csv('data/aps_failure_training_set.csv', skiprows=range(0, 20))\n",
    "test_df = pd.read_csv('data/aps_failure_test_set.csv', skiprows=range(0, 20))"
   ]
  },
  {
   "cell_type": "code",
   "execution_count": 3,
   "metadata": {},
   "outputs": [],
   "source": [
    "# replace classes neg to 0, pos to 1\n",
    "# alternative index accesing train_df.iloc[:,0]\n",
    "train_df['class'] = train_df['class'].str.replace('neg','0')\n",
    "train_df['class'] = train_df['class'].str.replace('pos','1')\n",
    "cols = train_df.columns\n",
    "train_df[cols] = train_df[cols].apply(pd.to_numeric, errors='coerce')\n",
    "\n",
    "test_df['class'] = test_df['class'].str.replace('neg','0')\n",
    "test_df['class'] = test_df['class'].str.replace('pos','1')\n",
    "cols = test_df.columns\n",
    "test_df[cols] = test_df[cols].apply(pd.to_numeric, errors='coerce')"
   ]
  },
  {
   "cell_type": "code",
   "execution_count": 4,
   "metadata": {},
   "outputs": [],
   "source": [
    "# split dataframe into two arrays\n",
    "cols = train_df.columns.drop('class')\n",
    "X_train = train_df[cols].values\n",
    "X_test = test_df[cols].values\n",
    "\n",
    "# labels\n",
    "y_train = train_df['class'].values\n",
    "y_test = test_df['class'].values"
   ]
  },
  {
   "cell_type": "code",
   "execution_count": 5,
   "metadata": {},
   "outputs": [],
   "source": [
    "# Create our imputer to replace missing values with the mean e.g.\n",
    "# http://scikit-learn.org/stable/modules/generated/sklearn.preprocessing.Imputer.html\n",
    "# strategy = {mean, median, most_frequent}\n",
    "\n",
    "imp_train = Imputer(missing_values='NaN', strategy='median', axis=0)\n",
    "imp_train = imp_train.fit(X_train)\n",
    "imp_test = Imputer(missing_values='NaN', strategy='median', axis=0)\n",
    "imp_test = imp_test.fit(X_test)\n",
    "# Impute each train and test item, then predict\n",
    "X_train_imp = imp_train.transform(X_train)\n",
    "X_test_imp = imp_test.transform(X_test)"
   ]
  },
  {
   "cell_type": "markdown",
   "metadata": {},
   "source": [
    "### Estimate optimal number of features"
   ]
  },
  {
   "cell_type": "code",
   "execution_count": 6,
   "metadata": {},
   "outputs": [
    {
     "name": "stdout",
     "output_type": "stream",
     "text": [
      "Total cost: 6.560625 Dimentions: 170 Iter time: 59.381 s\n",
      "Total cost: 6.560625 Dimentions: 169 Iter time: 58.275 s\n",
      "Total cost: 6.560625 Dimentions: 168 Iter time: 57.357 s\n",
      "Total cost: 7.215625 Dimentions: 167 Iter time: 90.375 s\n",
      "Total cost: 7.58125 Dimentions: 166 Iter time: 122.057 s\n",
      "Total cost: 6.681875 Dimentions: 165 Iter time: 103.822 s\n",
      "Total cost: 7.67125 Dimentions: 164 Iter time: 112.634 s\n",
      "Total cost: 10.980625 Dimentions: 163 Iter time: 105.305 s\n",
      "Total cost: 10.724375 Dimentions: 162 Iter time: 95.47 s\n",
      "Total cost: 10.980625 Dimentions: 161 Iter time: 103.36 s\n",
      "Total cost: 6.68125 Dimentions: 160 Iter time: 85.155 s\n",
      "Total cost: 7.099375 Dimentions: 159 Iter time: 85.199 s\n",
      "Total cost: 7.396875 Dimentions: 158 Iter time: 77.576 s\n",
      "Total cost: 11.005 Dimentions: 157 Iter time: 97.468 s\n",
      "Total cost: 10.600625 Dimentions: 156 Iter time: 89.459 s\n",
      "Total cost: 10.600625 Dimentions: 155 Iter time: 89.312 s\n",
      "Total cost: 6.560625 Dimentions: 154 Iter time: 45.013 s\n",
      "Total cost: 7.396875 Dimentions: 153 Iter time: 86.273 s\n",
      "Total cost: 8.6525 Dimentions: 152 Iter time: 87.396 s\n",
      "Total cost: 6.748125 Dimentions: 151 Iter time: 77.761 s\n",
      "Total cost: 11.131875 Dimentions: 150 Iter time: 92.249 s\n",
      "Total cost: 6.938125 Dimentions: 149 Iter time: 82.356 s\n",
      "Total cost: 7.000625 Dimentions: 148 Iter time: 83.849 s\n",
      "Total cost: 7.000625 Dimentions: 147 Iter time: 84.563 s\n",
      "Total cost: 7.000625 Dimentions: 146 Iter time: 83.558 s\n",
      "Total cost: 8.968125 Dimentions: 145 Iter time: 82.707 s\n",
      "Total cost: 6.2 Dimentions: 144 Iter time: 62.201 s\n",
      "Total cost: 8.345 Dimentions: 143 Iter time: 75.746 s\n",
      "Total cost: 8.9175 Dimentions: 142 Iter time: 82.876 s\n",
      "Total cost: 9.80375 Dimentions: 141 Iter time: 87.874 s\n",
      "Total cost: 9.99 Dimentions: 140 Iter time: 91.674 s\n",
      "Total cost: 6.506875 Dimentions: 139 Iter time: 81.032 s\n",
      "Total cost: 7.196875 Dimentions: 138 Iter time: 87.348 s\n",
      "Total cost: 8.7825 Dimentions: 137 Iter time: 80.776 s\n",
      "Total cost: 7.4325 Dimentions: 136 Iter time: 81.195 s\n",
      "Total cost: 9.186875 Dimentions: 135 Iter time: 79.909 s\n",
      "Total cost: 9.186875 Dimentions: 134 Iter time: 79.892 s\n",
      "Total cost: 9.185625 Dimentions: 133 Iter time: 80.646 s\n",
      "Total cost: 9.025625 Dimentions: 132 Iter time: 77.399 s\n",
      "Total cost: 8.76625 Dimentions: 131 Iter time: 72.541 s\n",
      "Total cost: 8.76625 Dimentions: 130 Iter time: 72.402 s\n",
      "Total cost: 6.964375 Dimentions: 129 Iter time: 88.119 s\n",
      "Total cost: 6.763125 Dimentions: 128 Iter time: 84.588 s\n",
      "Total cost: 9.884375 Dimentions: 127 Iter time: 94.42 s\n",
      "Total cost: 9.884375 Dimentions: 126 Iter time: 93.424 s\n",
      "Total cost: 9.31125 Dimentions: 125 Iter time: 80.993 s\n",
      "Total cost: 8.153125 Dimentions: 124 Iter time: 73.349 s\n",
      "Total cost: 7.775 Dimentions: 123 Iter time: 74.766 s\n",
      "Total cost: 8.57375 Dimentions: 122 Iter time: 82.222 s\n",
      "Total cost: 9.0125 Dimentions: 121 Iter time: 98.736 s\n",
      "Total cost: 10.881875 Dimentions: 120 Iter time: 77.438 s\n",
      "Total cost: 8.691875 Dimentions: 119 Iter time: 73.053 s\n",
      "Total cost: 8.6925 Dimentions: 118 Iter time: 72.606 s\n",
      "Total cost: 8.8175 Dimentions: 117 Iter time: 71.997 s\n",
      "Total cost: 10.51625 Dimentions: 116 Iter time: 74.719 s\n",
      "Total cost: 10.0125 Dimentions: 115 Iter time: 70.561 s\n",
      "Total cost: 9.98125 Dimentions: 114 Iter time: 69.42 s\n",
      "Total cost: 9.545 Dimentions: 113 Iter time: 74.139 s\n",
      "Total cost: 9.575 Dimentions: 112 Iter time: 76.305 s\n",
      "Total cost: 9.869375 Dimentions: 111 Iter time: 53.09 s\n",
      "Total cost: 6.560625 Dimentions: 110 Iter time: 25.492 s\n",
      "Total cost: 6.560625 Dimentions: 109 Iter time: 25.16 s\n",
      "Total cost: 6.560625 Dimentions: 108 Iter time: 24.875 s\n",
      "Total cost: 6.560625 Dimentions: 107 Iter time: 24.812 s\n",
      "Total cost: 7.1825 Dimentions: 106 Iter time: 48.464 s\n",
      "Total cost: 7.633125 Dimentions: 105 Iter time: 50.596 s\n",
      "Total cost: 7.846875 Dimentions: 104 Iter time: 47.231 s\n",
      "Total cost: 6.069375 Dimentions: 103 Iter time: 27.865 s\n",
      "Total cost: 6.560625 Dimentions: 102 Iter time: 24.51 s\n",
      "Total cost: 5.799375 Dimentions: 101 Iter time: 35.469 s\n",
      "Total cost: 6.005 Dimentions: 100 Iter time: 33.235 s\n",
      "Total cost: 8.965 Dimentions: 99 Iter time: 54.526 s\n",
      "Total cost: 8.359375 Dimentions: 98 Iter time: 56.906 s\n",
      "Total cost: 8.965625 Dimentions: 97 Iter time: 54.228 s\n",
      "Total cost: 8.549375 Dimentions: 96 Iter time: 53.858 s\n",
      "Total cost: 8.7325 Dimentions: 95 Iter time: 56.08 s\n",
      "Total cost: 9.136875 Dimentions: 94 Iter time: 56.209 s\n",
      "Total cost: 5.39375 Dimentions: 93 Iter time: 42.21 s\n",
      "Total cost: 5.085 Dimentions: 92 Iter time: 41.382 s\n",
      "Total cost: 5.359375 Dimentions: 91 Iter time: 38.003 s\n",
      "Total cost: 5.92375 Dimentions: 90 Iter time: 47.136 s\n",
      "Total cost: 8.2525 Dimentions: 89 Iter time: 51.573 s\n",
      "Total cost: 5.73375 Dimentions: 88 Iter time: 33.406 s\n",
      "Total cost: 5.765 Dimentions: 87 Iter time: 33.308 s\n",
      "Total cost: 6.5925 Dimentions: 86 Iter time: 23.707 s\n",
      "Total cost: 7.45875 Dimentions: 85 Iter time: 48.524 s\n",
      "Total cost: 6.779375 Dimentions: 84 Iter time: 25.763 s\n",
      "Total cost: 7.803125 Dimentions: 83 Iter time: 33.644 s\n",
      "Total cost: 7.20625 Dimentions: 82 Iter time: 31.352 s\n",
      "Total cost: 7.803125 Dimentions: 81 Iter time: 32.766 s\n",
      "Total cost: 8.565 Dimentions: 80 Iter time: 49.39 s\n",
      "Total cost: 8.45375 Dimentions: 79 Iter time: 45.97 s\n",
      "Total cost: 8.4675 Dimentions: 78 Iter time: 43.43 s\n",
      "Total cost: 8.4675 Dimentions: 77 Iter time: 43.252 s\n",
      "Total cost: 6.8925 Dimentions: 76 Iter time: 36.993 s\n",
      "Total cost: 7.54625 Dimentions: 75 Iter time: 42.406 s\n",
      "Total cost: 7.70125 Dimentions: 74 Iter time: 46.208 s\n",
      "Total cost: 6.7725 Dimentions: 73 Iter time: 41.878 s\n",
      "Total cost: 6.740625 Dimentions: 72 Iter time: 42.892 s\n",
      "Total cost: 7.041875 Dimentions: 71 Iter time: 40.331 s\n",
      "Total cost: 7.838125 Dimentions: 70 Iter time: 43.672 s\n",
      "Total cost: 7.866875 Dimentions: 69 Iter time: 42.327 s\n",
      "Total cost: 7.0575 Dimentions: 68 Iter time: 40.895 s\n",
      "Total cost: 7.358125 Dimentions: 67 Iter time: 43.422 s\n",
      "Total cost: 8.1675 Dimentions: 66 Iter time: 44.834 s\n",
      "Total cost: 6.94 Dimentions: 65 Iter time: 43.418 s\n",
      "Total cost: 6.64875 Dimentions: 64 Iter time: 41.723 s\n",
      "Total cost: 7.853125 Dimentions: 63 Iter time: 50.864 s\n",
      "Total cost: 7.90125 Dimentions: 62 Iter time: 43.887 s\n",
      "Total cost: 8.64375 Dimentions: 61 Iter time: 45.299 s\n",
      "Total cost: 7.66 Dimentions: 60 Iter time: 45.703 s\n",
      "Total cost: 8.035 Dimentions: 59 Iter time: 47.038 s\n",
      "Total cost: 7.984375 Dimentions: 58 Iter time: 31.871 s\n",
      "Total cost: 9.880625 Dimentions: 57 Iter time: 40.185 s\n",
      "Total cost: 8.4325 Dimentions: 56 Iter time: 37.847 s\n",
      "Total cost: 8.298125 Dimentions: 55 Iter time: 34.384 s\n",
      "Total cost: 7.0125 Dimentions: 54 Iter time: 22.075 s\n",
      "Total cost: 7.94375 Dimentions: 53 Iter time: 31.096 s\n",
      "Total cost: 7.170625 Dimentions: 52 Iter time: 32.968 s\n",
      "Total cost: 7.508125 Dimentions: 51 Iter time: 32.258 s\n",
      "Total cost: 7.258125 Dimentions: 50 Iter time: 31.79 s\n",
      "Total cost: 8.21375 Dimentions: 49 Iter time: 33.677 s\n",
      "Total cost: 8.89125 Dimentions: 48 Iter time: 38.728 s\n",
      "Total cost: 7.724375 Dimentions: 47 Iter time: 33.967 s\n",
      "Total cost: 8.065625 Dimentions: 46 Iter time: 36.259 s\n",
      "Total cost: 8.098125 Dimentions: 45 Iter time: 34.413 s\n",
      "Total cost: 7.26375 Dimentions: 44 Iter time: 21.092 s\n",
      "Total cost: 7.295 Dimentions: 43 Iter time: 19.743 s\n",
      "Total cost: 8.01125 Dimentions: 42 Iter time: 31.142 s\n",
      "Total cost: 8.919375 Dimentions: 41 Iter time: 29.169 s\n",
      "Total cost: 8.084375 Dimentions: 40 Iter time: 23.412 s\n",
      "Total cost: 8.2975 Dimentions: 39 Iter time: 25.434 s\n",
      "Total cost: 8.235 Dimentions: 38 Iter time: 24.436 s\n",
      "Total cost: 8.501875 Dimentions: 37 Iter time: 23.573 s\n",
      "Total cost: 8.25375 Dimentions: 36 Iter time: 18.426 s\n",
      "Total cost: 6.758125 Dimentions: 35 Iter time: 17.625 s\n",
      "Total cost: 5.64375 Dimentions: 34 Iter time: 25.986 s\n",
      "Total cost: 7.45625 Dimentions: 33 Iter time: 17.762 s\n",
      "Total cost: 6.600625 Dimentions: 32 Iter time: 24.071 s\n",
      "Total cost: 6.285625 Dimentions: 31 Iter time: 11.333 s\n",
      "Total cost: 6.3175 Dimentions: 30 Iter time: 11.164 s\n",
      "Total cost: 6.56875 Dimentions: 29 Iter time: 10.971 s\n",
      "Total cost: 7.396875 Dimentions: 28 Iter time: 16.49 s\n",
      "Total cost: 6.598125 Dimentions: 27 Iter time: 11.157 s\n",
      "Total cost: 7.04875 Dimentions: 26 Iter time: 18.649 s\n",
      "Total cost: 6.734375 Dimentions: 25 Iter time: 17.04 s\n",
      "Total cost: 7.11125 Dimentions: 24 Iter time: 16.396 s\n",
      "Total cost: 6.719375 Dimentions: 23 Iter time: 11.274 s\n"
     ]
    },
    {
     "name": "stdout",
     "output_type": "stream",
     "text": [
      "Total cost: 6.815 Dimentions: 22 Iter time: 11.201 s\n",
      "Total cost: 6.87625 Dimentions: 21 Iter time: 10.99 s\n",
      "Total cost: 6.891875 Dimentions: 20 Iter time: 13.634 s\n",
      "Total cost: 7.130625 Dimentions: 19 Iter time: 10.235 s\n",
      "Total cost: 7.130625 Dimentions: 18 Iter time: 8.812 s\n",
      "Total cost: 7.163125 Dimentions: 17 Iter time: 9.482 s\n",
      "Total cost: 7.8175 Dimentions: 16 Iter time: 15.975 s\n",
      "Total cost: 7.256875 Dimentions: 15 Iter time: 8.013 s\n",
      "Total cost: 8.21125 Dimentions: 14 Iter time: 11.634 s\n",
      "Total cost: 7.450625 Dimentions: 13 Iter time: 7.274 s\n",
      "Total cost: 7.521875 Dimentions: 12 Iter time: 7.255 s\n",
      "Total cost: 7.418125 Dimentions: 11 Iter time: 6.774 s\n",
      "Total cost: 8.20375 Dimentions: 10 Iter time: 6.94 s\n",
      "Total cost: 8.54625 Dimentions: 9 Iter time: 6.514 s\n",
      "Total cost: 7.56375 Dimentions: 8 Iter time: 4.314 s\n",
      "Total cost: 7.978125 Dimentions: 7 Iter time: 3.575 s\n",
      "Total cost: 7.864375 Dimentions: 6 Iter time: 3.896 s\n",
      "Total cost: 9.3875 Dimentions: 5 Iter time: 2.796 s\n",
      "Total cost: 10.0775 Dimentions: 4 Iter time: 2.267 s\n",
      "Total cost: 8.523125 Dimentions: 3 Iter time: 1.998 s\n",
      "Total cost: 11.406875 Dimentions: 2 Iter time: 1.589 s\n",
      "Total cost: 11.659375 Dimentions: 1 Iter time: 7.217 s\n"
     ]
    }
   ],
   "source": [
    "Cost_1 = 10 \n",
    "Cost_2 = 500\n",
    "columns = []\n",
    "costs = []\n",
    "times_reduce = []\n",
    "times_train = []\n",
    "times_pred = []\n",
    "_ , column = X_train.shape\n",
    "\n",
    "while column > 0:\n",
    "    #     dimention reduction \n",
    "    t0 = time()\n",
    "    X_train_new = SelectKBest(chi2, k=column).fit_transform(X_train_imp, y_train)\n",
    "    X_test_new = SelectKBest(chi2, k=column).fit_transform(X_test_imp, y_test)\n",
    "    times_reduce.append(round(time()-t0, 3))\n",
    "    \n",
    "    #     train model\n",
    "    t1 = time()\n",
    "    neigh = KNeighborsClassifier(n_neighbors=5)\n",
    "    n_clf = neigh.fit(X_train_new, y_train) \n",
    "    times_train.append(round(time()-t1, 3))\n",
    "\n",
    "    #     test model\n",
    "    t2 = time()\n",
    "    y_pred = n_clf.predict(X_test_new)\n",
    "    times_pred.append(round(time()-t2, 3))\n",
    "\n",
    "    #     model evaluation\n",
    "    cnf_matrix = metrics.confusion_matrix(y_test, y_pred)\n",
    "    FP = cnf_matrix[0, 1]\n",
    "    FN = cnf_matrix[1, 0]    \n",
    "    Total_cost = (Cost_1*FP + Cost_2*FN)/len(y_pred)\n",
    "    columns.append(column)\n",
    "    costs.append(Total_cost)\n",
    "    print(\"Total cost:\", Total_cost, \"Dimentions:\", column, \"Iter time:\", round(time()-t0, 3), \"s\")\n",
    "    column = column - 1"
   ]
  },
  {
   "cell_type": "code",
   "execution_count": 39,
   "metadata": {},
   "outputs": [
    {
     "name": "stdout",
     "output_type": "stream",
     "text": [
      "Populating the interactive namespace from numpy and matplotlib\n"
     ]
    },
    {
     "data": {
      "image/png": "[encoded data removed]",
      "text/plain": [
       "<Figure size 720x720 with 1 Axes>"
      ]
     },
     "metadata": {},
     "output_type": "display_data"
    }
   ],
   "source": [
    " %pylab inline\n",
    "pylab.rcParams['figure.figsize'] = (10, 10)\n",
    "ax = plt.subplot(211)\n",
    "ax.plot(columns, costs)\n",
    "plt.ylabel('Total cost')\n",
    "plt.xlabel('Number of dimentions')\n",
    "plt.show()"
   ]
  },
  {
   "cell_type": "code",
   "execution_count": 40,
   "metadata": {
    "scrolled": true
   },
   "outputs": [
    {
     "data": {
      "image/png": "[encoded data removed]",
      "text/plain": [
       "<Figure size 720x720 with 1 Axes>"
      ]
     },
     "metadata": {},
     "output_type": "display_data"
    }
   ],
   "source": [
    "pylab.rcParams['figure.figsize'] = (10, 10)\n",
    "ax = plt.subplot(211)\n",
    "ax.plot(columns, times_reduce,  label=\"Reduce time\")\n",
    "ax.plot(columns, times_train, label=\"Train time\")\n",
    "ax.plot(columns, times_pred, label=\"Predict time\")\n",
    "ax.set_yscale('log')\n",
    "leg = ax.legend(bbox_to_anchor=(0., 1.02, 1., .102), loc=3,\n",
    "           ncol=3, mode=\"expand\", borderaxespad=0.)\n",
    "leg.get_frame().set_alpha(0.5)\n",
    "plt.ylabel('Time')\n",
    "plt.xlabel('Number of dimentions')\n",
    "plt.show()"
   ]
  },
  {
   "cell_type": "code",
   "execution_count": 41,
   "metadata": {},
   "outputs": [
    {
     "data": {
      "text/plain": [
       "92"
      ]
     },
     "execution_count": 41,
     "metadata": {},
     "output_type": "execute_result"
    }
   ],
   "source": [
    "# number features with min cost\n",
    "k = columns[costs.index(min(costs))]\n",
    "k"
   ]
  },
  {
   "cell_type": "code",
   "execution_count": 42,
   "metadata": {},
   "outputs": [],
   "source": [
    "# select features\n",
    "X_train = SelectKBest(chi2, k=k).fit_transform(X_train_imp, y_train)\n",
    "X_test = SelectKBest(chi2, k=k).fit_transform(X_test_imp, y_test)"
   ]
  },
  {
   "cell_type": "code",
   "execution_count": 43,
   "metadata": {},
   "outputs": [
    {
     "name": "stdout",
     "output_type": "stream",
     "text": [
      "Class distribution of the training set: Counter({0: 59000, 1: 1000})\n"
     ]
    }
   ],
   "source": [
    "print('Class distribution of the training set: {}'.format(Counter(y_train)))"
   ]
  },
  {
   "cell_type": "markdown",
   "metadata": {},
   "source": [
    "### KNeighborsClassifier\n",
    "\n",
    "http://scikit-learn.org/stable/modules/generated/sklearn.neighbors.KNeighborsClassifier.html"
   ]
  },
  {
   "cell_type": "code",
   "execution_count": 44,
   "metadata": {},
   "outputs": [],
   "source": [
    "neigh = KNeighborsClassifier(n_neighbors=5)\n",
    "n_clf = neigh.fit(X_resampled, y_resampled) \n",
    "y_pred = n_clf.predict(X_test)"
   ]
  },
  {
   "cell_type": "markdown",
   "metadata": {},
   "source": [
    "## Evaluation"
   ]
  },
  {
   "cell_type": "code",
   "execution_count": 45,
   "metadata": {},
   "outputs": [
    {
     "name": "stdout",
     "output_type": "stream",
     "text": [
      "accuracy_score: 0.9594375\n"
     ]
    }
   ],
   "source": [
    "acc = metrics.accuracy_score(y_pred, y_test)\n",
    "print (\"accuracy_score:\", acc)"
   ]
  },
  {
   "cell_type": "code",
   "execution_count": 46,
   "metadata": {},
   "outputs": [
    {
     "name": "stdout",
     "output_type": "stream",
     "text": [
      "test labels: \n",
      " 0    15625\n",
      "1      375\n",
      "dtype: int64\n",
      "predicted labels: \n",
      " 0    15084\n",
      "1      916\n",
      "dtype: int64\n"
     ]
    }
   ],
   "source": [
    "print('test labels: \\n', pd.Series(y_test).value_counts())\n",
    "print('predicted labels: \\n', pd.Series(y_pred).value_counts())"
   ]
  },
  {
   "cell_type": "code",
   "execution_count": 47,
   "metadata": {},
   "outputs": [
    {
     "data": {
      "text/plain": [
       "0.9765625"
      ]
     },
     "execution_count": 47,
     "metadata": {},
     "output_type": "execute_result"
    }
   ],
   "source": [
    "# calculate null accuracy (for binary classification problems coded as 0/1)# calcul \n",
    "max(y_test.mean(), 1 - y_test.mean())"
   ]
  },
  {
   "cell_type": "markdown",
   "metadata": {},
   "source": [
    "Classification accuracy is the easiest classification metric to understand<br>\n",
    "But, it does not tell you the underlying distribution of response values<br>\n",
    "And, it does not tell you what \"types\" of errors your classifier is making<br>"
   ]
  },
  {
   "cell_type": "code",
   "execution_count": 48,
   "metadata": {},
   "outputs": [
    {
     "name": "stdout",
     "output_type": "stream",
     "text": [
      "Confusion matrix, without normalization\n",
      "[[15030   595]\n",
      " [   54   321]]\n",
      "Normalized confusion matrix\n",
      "[[0.96 0.04]\n",
      " [0.14 0.86]]\n"
     ]
    },
    {
     "data": {
      "image/png": "[encoded data removed]",
      "text/plain": [
       "<Figure size 720x720 with 2 Axes>"
      ]
     },
     "metadata": {},
     "output_type": "display_data"
    },
    {
     "data": {
      "image/png": "[encoded data removed]",
      "text/plain": [
       "<Figure size 720x720 with 2 Axes>"
      ]
     },
     "metadata": {},
     "output_type": "display_data"
    }
   ],
   "source": [
    "# Compute confusion matrix to evaluate the accuracy of a Random Forest Training classification\n",
    "def plot_confusion_matrix(cm, classes,\n",
    "                          normalize=False,\n",
    "                          title='Confusion matrix',\n",
    "                          cmap=plt.cm.Blues):\n",
    "    \"\"\"\n",
    "    This function prints and plots the confusion matrix.\n",
    "    Normalization can be applied by setting `normalize=True`.\n",
    "    \"\"\"\n",
    "    if normalize:\n",
    "        cm = cm.astype('float') / cm.sum(axis=1)[:, np.newaxis]\n",
    "        print(\"Normalized confusion matrix\")\n",
    "    else:\n",
    "        print('Confusion matrix, without normalization')\n",
    "\n",
    "    print(cm)\n",
    "\n",
    "    plt.imshow(cm, interpolation='nearest', cmap=cmap)\n",
    "    plt.title(title)\n",
    "    plt.colorbar()\n",
    "    tick_marks = np.arange(len(classes))\n",
    "    plt.xticks(tick_marks, classes, rotation=45)\n",
    "    plt.yticks(tick_marks, classes)\n",
    "\n",
    "    fmt = '.2f' if normalize else 'd'\n",
    "    thresh = cm.max() / 2.\n",
    "    for i, j in itertools.product(range(cm.shape[0]), range(cm.shape[1])):\n",
    "        plt.text(j, i, format(cm[i, j], fmt),\n",
    "                 horizontalalignment=\"center\",\n",
    "                 color=\"white\" if cm[i, j] > thresh else \"black\")\n",
    "\n",
    "    plt.tight_layout()\n",
    "    plt.ylabel('True label')\n",
    "    plt.xlabel('Predicted label')\n",
    "\n",
    "class_names = (['Neg', 'Pos'])\n",
    "   \n",
    "# Compute confusion matrix\n",
    "cnf_matrix = metrics.confusion_matrix(y_test, y_pred)\n",
    "np.set_printoptions(precision=2)\n",
    "\n",
    "plt.figure()\n",
    "plot_confusion_matrix(cnf_matrix, classes=class_names,\n",
    "                      title='Confusion matrix, without normalization')\n",
    "\n",
    "plt.figure()\n",
    "plot_confusion_matrix(cnf_matrix, classes=class_names, normalize=True,\n",
    "                      title='Normalized confusion matrix')\n",
    "\n",
    "plt.show()"
   ]
  },
  {
   "cell_type": "markdown",
   "metadata": {},
   "source": [
    "+ Every observation in the testing set is represented in exactly one box\n",
    "+ It's a 2x2 matrix because there are 2 response classes\n",
    "+ The format shown here is not universal\n",
    "\n",
    "Basic terminology <br>\n",
    "\n",
    "+ True Positives (TP): we correctly predicted that there is some failure\n",
    "+ True Negatives (TN): we correctly predicted that there is no failure\n",
    "+ False Positives (FP): we incorrectly predicted that there is some failure (a \"Type I error\")\n",
    "+ False Negatives (FN): we incorrectly predicted that there is no failure (a \"Type II error\")"
   ]
  },
  {
   "cell_type": "code",
   "execution_count": 49,
   "metadata": {},
   "outputs": [
    {
     "name": "stdout",
     "output_type": "stream",
     "text": [
      "321 15030 595 54\n"
     ]
    }
   ],
   "source": [
    "# save confusion matrix and slice into four pieces\n",
    "confusion = cnf_matrix\n",
    "TP = confusion[1, 1]\n",
    "TN = confusion[0, 0]\n",
    "FP = confusion[0, 1]\n",
    "FN = confusion[1, 0]\n",
    "print(TP, TN, FP, FN)"
   ]
  },
  {
   "cell_type": "code",
   "execution_count": 50,
   "metadata": {},
   "outputs": [
    {
     "name": "stdout",
     "output_type": "stream",
     "text": [
      "Total cost: 2.059375\n"
     ]
    }
   ],
   "source": [
    "# Costs\n",
    "# To minimize costs\n",
    "Cost_1 = 10 \n",
    "Cost_2 = 500\n",
    "Total_cost = (Cost_1*FP + Cost_2*FN)/len(y_pred)\n",
    "\n",
    "print(\"Total cost:\", Total_cost)"
   ]
  },
  {
   "cell_type": "markdown",
   "metadata": {},
   "source": [
    "## Metrics computed from a confusion matrix¶\n",
    "#### Classification Accuracy: Overall, how often is the classifier correct?"
   ]
  },
  {
   "cell_type": "code",
   "execution_count": 51,
   "metadata": {},
   "outputs": [
    {
     "name": "stdout",
     "output_type": "stream",
     "text": [
      "0.9594375\n",
      "0.9594375\n"
     ]
    }
   ],
   "source": [
    "print((TP + TN) / float(TP + TN + FP + FN))\n",
    "print(metrics.accuracy_score(y_test, y_pred))"
   ]
  },
  {
   "cell_type": "markdown",
   "metadata": {},
   "source": [
    "#### Classification Error: Overall, how often is the classifier incorrect?\n",
    "\n",
    "Also known as \"Misclassification Rate\""
   ]
  },
  {
   "cell_type": "code",
   "execution_count": 52,
   "metadata": {},
   "outputs": [
    {
     "name": "stdout",
     "output_type": "stream",
     "text": [
      "0.0405625\n",
      "0.040562499999999946\n"
     ]
    }
   ],
   "source": [
    "print((FP + FN) / float(TP + TN + FP + FN))\n",
    "print(1 - metrics.accuracy_score(y_test, y_pred))"
   ]
  },
  {
   "cell_type": "markdown",
   "metadata": {},
   "source": [
    "#### Sensitivity: When the actual value is positive, how often is the prediction correct?\n",
    "\n",
    "How \"sensitive\" is the classifier to detecting positive instances?\n",
    "Also known as \"True Positive Rate\" or \"Recall\""
   ]
  },
  {
   "cell_type": "code",
   "execution_count": 53,
   "metadata": {},
   "outputs": [
    {
     "name": "stdout",
     "output_type": "stream",
     "text": [
      "0.856\n",
      "0.856\n"
     ]
    }
   ],
   "source": [
    "print(TP / float(TP + FN))\n",
    "print(metrics.recall_score(y_test, y_pred))"
   ]
  },
  {
   "cell_type": "markdown",
   "metadata": {},
   "source": [
    "#### Specificity: When the actual value is negative, how often is the prediction correct?\n",
    "\n",
    "+ How \"specific\" (or \"selective\") is the classifier in predicting positive instances?"
   ]
  },
  {
   "cell_type": "code",
   "execution_count": 54,
   "metadata": {},
   "outputs": [
    {
     "name": "stdout",
     "output_type": "stream",
     "text": [
      "0.96192\n"
     ]
    }
   ],
   "source": [
    "print(TN / float(TN + FP))"
   ]
  },
  {
   "cell_type": "markdown",
   "metadata": {},
   "source": [
    "#### False Positive Rate: When the actual value is negative, how often is the prediction incorrect?"
   ]
  },
  {
   "cell_type": "code",
   "execution_count": 55,
   "metadata": {},
   "outputs": [
    {
     "name": "stdout",
     "output_type": "stream",
     "text": [
      "0.03808\n"
     ]
    }
   ],
   "source": [
    "print(FP / float(TN + FP))"
   ]
  },
  {
   "cell_type": "markdown",
   "metadata": {},
   "source": [
    "#### Precision: When a positive value is predicted, how often is the prediction correct?\n",
    "\n",
    "+ How \"precise\" is the classifier when predicting positive instances?"
   ]
  },
  {
   "cell_type": "code",
   "execution_count": 56,
   "metadata": {},
   "outputs": [
    {
     "name": "stdout",
     "output_type": "stream",
     "text": [
      "0.35043668122270744\n",
      "0.35043668122270744\n"
     ]
    }
   ],
   "source": [
    "print(TP / float(TP + FP))\n",
    "print(metrics.precision_score(y_test, y_pred))"
   ]
  },
  {
   "cell_type": "markdown",
   "metadata": {},
   "source": [
    "#### Conclusion:\n",
    "\n",
    "+ Confusion matrix gives you a more complete picture of how your classifier is performing\n",
    "+ Also allows you to compute various classification metrics, and these metrics can guide your model selection\n",
    "\n",
    "#### Which metrics should you focus on?\n",
    "\n",
    "+ Choice of metric depends on your business objective\n",
    "+ Spam filter (positive class is \"spam\"): Optimize for precision or specificity because false negatives (spam goes to + the inbox) are more acceptable than false positives (non-spam is caught by the spam filter)\n",
    "+ Fraudulent transaction detector (positive class is \"fraud\"): Optimize for sensitivity because false positives (normal transactions that are flagged as possible fraud) are more acceptable than false negatives (fraudulent transactions that are not detected)"
   ]
  }
 ],
 "metadata": {
  "kernelspec": {
   "display_name": "Python 3",
   "language": "python",
   "name": "python3"
  },
  "language_info": {
   "codemirror_mode": {
    "name": "ipython",
    "version": 3
   },
   "file_extension": ".py",
   "mimetype": "text/x-python",
   "name": "python",
   "nbconvert_exporter": "python",
   "pygments_lexer": "ipython3",
   "version": "3.6.5"
  }
 },
 "nbformat": 4,
 "nbformat_minor": 2
}
